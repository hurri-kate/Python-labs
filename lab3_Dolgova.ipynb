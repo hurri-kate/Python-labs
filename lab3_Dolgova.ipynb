{
 "cells": [
  {
   "cell_type": "markdown",
   "id": "80f2c851",
   "metadata": {},
   "source": [
    "**Множества A**"
   ]
  },
  {
   "cell_type": "code",
   "execution_count": null,
   "id": "c13af470",
   "metadata": {},
   "outputs": [],
   "source": [
    "print(len({i for i in input().split()}))"
   ]
  },
  {
   "cell_type": "markdown",
   "id": "34d4e3bc",
   "metadata": {},
   "source": [
    "**Множества B**"
   ]
  },
  {
   "cell_type": "code",
   "execution_count": null,
   "id": "2a6aa331",
   "metadata": {},
   "outputs": [],
   "source": [
    "print(len({i for i in input().split()} & {i for i in input().split()}))"
   ]
  },
  {
   "cell_type": "markdown",
   "id": "ceb3627b",
   "metadata": {},
   "source": [
    "**Множества C**"
   ]
  },
  {
   "cell_type": "code",
   "execution_count": null,
   "id": "0186357e",
   "metadata": {},
   "outputs": [],
   "source": [
    "print(*sorted(list({int(i) for i in input().split()} & {int(i) for i in input().split()})))"
   ]
  },
  {
   "cell_type": "markdown",
   "id": "911b6755",
   "metadata": {},
   "source": [
    "**Множества D**"
   ]
  },
  {
   "cell_type": "code",
   "execution_count": null,
   "id": "4e6f3639",
   "metadata": {},
   "outputs": [],
   "source": [
    "a = [str(i) for i in input().split()]\n",
    "b = set()\n",
    "for i in range(len(a)):\n",
    "    if a[i] in b:\n",
    "        print(\"YES\")\n",
    "    else:\n",
    "        print(\"NO\")\n",
    "    b.add(a[i])"
   ]
  },
  {
   "cell_type": "markdown",
   "id": "fca0e196",
   "metadata": {},
   "source": [
    "**Множества E**"
   ]
  },
  {
   "cell_type": "code",
   "execution_count": null,
   "id": "c638eb4c",
   "metadata": {},
   "outputs": [],
   "source": [
    "n = int(input())\n",
    "no = set()\n",
    "yes = set()\n",
    "a = {int(i) for i in input().split()}\n",
    "s = input()\n",
    "if s == 'YES':\n",
    "  yes |= a\n",
    "else:\n",
    "  no |= (a)\n",
    "while True:\n",
    "    a = {i for i in input().split()}\n",
    "    if 'HELP' in a:\n",
    "      break\n",
    "    a = set(map(int, a))\n",
    "    s = input()\n",
    "    if s == 'YES':\n",
    "      if yes == set():\n",
    "          yes |= a\n",
    "      else:\n",
    "          yes &= a\n",
    "    else:\n",
    "      no |= a\n",
    "      yes -= a\n",
    "if yes == set():\n",
    "    yes = {i for i in range(1, n+1)}\n",
    "print(*sorted(list(yes - no)))"
   ]
  },
  {
   "cell_type": "markdown",
   "id": "2958b469",
   "metadata": {},
   "source": [
    "**Множества F**"
   ]
  },
  {
   "cell_type": "code",
   "execution_count": null,
   "id": "d20fffe1",
   "metadata": {},
   "outputs": [],
   "source": [
    "s = input()\n",
    "b = set(s)\n",
    "c = {str(i) for i in range(10)}\n",
    "d = list(c & b)\n",
    "o = set()\n",
    "if len(d) != 0:\n",
    "    for i in d:\n",
    "        k = s.count(i)\n",
    "        if k > 1:\n",
    "            o.add(str(i))\n",
    "    print(' '.join(sorted(list(o))))\n",
    "else:\n",
    "    print(\"NO\")"
   ]
  },
  {
   "cell_type": "markdown",
   "id": "7e163e30",
   "metadata": {},
   "source": [
    "**Множества G**"
   ]
  },
  {
   "cell_type": "code",
   "execution_count": null,
   "id": "12a675c0",
   "metadata": {},
   "outputs": [],
   "source": [
    "a = set(input())\n",
    "b = {str(i) for i in range(10)}\n",
    "c = a & b\n",
    "if len(c) > 0:\n",
    "    print(''.join(sorted(list(c))))\n",
    "else:\n",
    "    print(\"NO\")"
   ]
  },
  {
   "cell_type": "markdown",
   "id": "5400b727",
   "metadata": {},
   "source": [
    "**Множества H**"
   ]
  },
  {
   "cell_type": "code",
   "execution_count": null,
   "id": "46887335",
   "metadata": {},
   "outputs": [],
   "source": [
    "a = set(input())\n",
    "print(len(a))"
   ]
  },
  {
   "cell_type": "markdown",
   "id": "f4d811ed",
   "metadata": {},
   "source": [
    "**Множества I**"
   ]
  },
  {
   "cell_type": "code",
   "execution_count": null,
   "id": "1eec1eb4",
   "metadata": {},
   "outputs": [],
   "source": [
    "a = set(input())\n",
    "b = {str(i) for i in range(10)}\n",
    "c = sorted(list(b - (a & b)), reverse=True)\n",
    "if len(c) > 0:\n",
    "    print(''.join(c))\n",
    "else:\n",
    "    print(\"NO\")"
   ]
  },
  {
   "cell_type": "markdown",
   "id": "e81e48be",
   "metadata": {},
   "source": [
    "**Множества J**"
   ]
  },
  {
   "cell_type": "code",
   "execution_count": null,
   "id": "f34065f4",
   "metadata": {},
   "outputs": [],
   "source": [
    "a1 = set(input().upper())\n",
    "a2 = set(input().upper())\n",
    "a = a1 | a2\n",
    "b = {chr(i) for i in range(65, 91)}\n",
    "c = sorted(list(b - (a & b)))\n",
    "if len(c) > 0:\n",
    "    print(''.join(c))\n",
    "else:\n",
    "    print(0)"
   ]
  },
  {
   "cell_type": "markdown",
   "id": "a481f0c2",
   "metadata": {},
   "source": [
    "**Множества K**"
   ]
  },
  {
   "cell_type": "code",
   "execution_count": null,
   "id": "d4e049f2",
   "metadata": {},
   "outputs": [],
   "source": [
    "a = list(input())\n",
    "b1 = {str(i) for i in range(10)}\n",
    "b2 = {chr(i) for i in range(65, 91)}\n",
    "b3 = {chr(i) for i in range(97, 123)}\n",
    "if a[0] not in b1:\n",
    "    b = b1 | b2 | b3\n",
    "    b.add(\"_\")\n",
    "    c = b & set(a)\n",
    "    if len(c) == len(set(a)):\n",
    "        print(\"YES\")\n",
    "    else:\n",
    "        print(\"NO\")\n",
    "else:\n",
    "    print(\"NO\")"
   ]
  },
  {
   "cell_type": "markdown",
   "id": "a4bfc9fe",
   "metadata": {},
   "source": [
    "**Словари A**"
   ]
  },
  {
   "cell_type": "code",
   "execution_count": null,
   "id": "a977efbf",
   "metadata": {},
   "outputs": [],
   "source": [
    "n = int(input())\n",
    "d = dict()\n",
    "i = 0\n",
    "for i in range(n):\n",
    "    s = input().split()\n",
    "    d[s[0]] = s[1]\n",
    "s = input()\n",
    "k = list(d.keys())\n",
    "v = list(d.values())\n",
    "for i in range(n):\n",
    "    if s == v[i]:\n",
    "        print(k[i])\n",
    "    elif s == k[i]:\n",
    "        print(v[i])"
   ]
  },
  {
   "cell_type": "markdown",
   "id": "6c86ff4a",
   "metadata": {},
   "source": [
    "**Словари B**"
   ]
  },
  {
   "cell_type": "code",
   "execution_count": null,
   "id": "c013c1c3",
   "metadata": {},
   "outputs": [],
   "source": [
    "from collections import Counter\n",
    "counter = Counter()\n",
    "file = open('input.txt', 'r')\n",
    "for line in file:\n",
    "    for word in line.strip().split():\n",
    "        print(counter[word], end=' ')\n",
    "        counter[word] += 1\n",
    "file.close()"
   ]
  },
  {
   "cell_type": "markdown",
   "id": "9028a183",
   "metadata": {},
   "source": [
    "**Словари C**"
   ]
  },
  {
   "cell_type": "code",
   "execution_count": null,
   "id": "97f0db75",
   "metadata": {},
   "outputs": [],
   "source": [
    "from collections import Counter\n",
    "words = []\n",
    "f = open('input.txt', 'r')\n",
    "for line in f:\n",
    "    for word in line.strip().split():\n",
    "        words.append(word)\n",
    "f.close()\n",
    "counter = Counter(words)\n",
    "d = [(-i[1], i[0]) for i in counter.most_common()]\n",
    "d = [i[1] for i in sorted(d)]\n",
    "print('\\n'.join(d))"
   ]
  },
  {
   "cell_type": "markdown",
   "id": "7036ec0f",
   "metadata": {},
   "source": [
    "**Словари D**"
   ]
  },
  {
   "cell_type": "code",
   "execution_count": null,
   "id": "bb6dad11",
   "metadata": {},
   "outputs": [],
   "source": [
    "n = int(input())\n",
    "d = dict()\n",
    "i = 0\n",
    "b = []\n",
    "for i in range(n): \n",
    "    s = input()\n",
    "    a = s.split()\n",
    "    for j in range(1, len(a)):\n",
    "        d[a[j]] = a[0]\n",
    "m = int(input())\n",
    "for i in range(m):\n",
    "    s = input()\n",
    "    b.append(d[s])\n",
    "print('\\n'.join(b))"
   ]
  },
  {
   "cell_type": "markdown",
   "id": "d9622aca",
   "metadata": {},
   "source": [
    "**Словари E**"
   ]
  },
  {
   "cell_type": "code",
   "execution_count": null,
   "id": "a4c087a2",
   "metadata": {},
   "outputs": [],
   "source": [
    "from collections import Counter\n",
    "words = []\n",
    "file = open('input.txt', 'r')\n",
    "for line in file:\n",
    "    for word in line.strip().split():\n",
    "        words.append(word)\n",
    "file.close()\n",
    "counter = Counter(words)\n",
    "d = [(-i[1], i[0]) for i in counter.most_common()]\n",
    "d = sorted(d)\n",
    "print(d[0][1])"
   ]
  }
 ],
 "metadata": {
  "kernelspec": {
   "display_name": "Python 3 (ipykernel)",
   "language": "python",
   "name": "python3"
  },
  "language_info": {
   "codemirror_mode": {
    "name": "ipython",
    "version": 3
   },
   "file_extension": ".py",
   "mimetype": "text/x-python",
   "name": "python",
   "nbconvert_exporter": "python",
   "pygments_lexer": "ipython3",
   "version": "3.11.5"
  }
 },
 "nbformat": 4,
 "nbformat_minor": 5
}
