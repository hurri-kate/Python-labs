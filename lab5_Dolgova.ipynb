{
 "cells": [
  {
   "cell_type": "markdown",
   "id": "1bc1faf2",
   "metadata": {},
   "source": [
    "# Лабораторное занятие № 5"
   ]
  },
  {
   "cell_type": "markdown",
   "id": "720a6f9c",
   "metadata": {},
   "source": [
    "**NumPy** — это библиотека Python, которую применяют для математических вычислений: начиная с базовых функций и заканчивая линейной алгеброй. Полное название библиотеки — **Numerical Python extensions**, или **«Числовые расширения Python»**.\n",
    "\n",
    "Где используется NumPy"
   ]
  },
  {
   "cell_type": "markdown",
   "id": "cf5d0112",
   "metadata": {},
   "source": [
    "Библиотека NumPy используется:\n",
    "    \n",
    "* **Научные вычисления**\n",
    "\n",
    "NumPy хорошо зарекомендовавший себя инструмент для решения многомерных задач в математике и физике, биоинформатике, вычислительной химии и даже когнитивной психологии.\n",
    "\n",
    "* **Создание новых массивных библиотек**\n",
    "\n",
    "На основе NumPy появляются новые типы массивов, возможности которых выходят за рамки того, что предлагает библиотека. Например, библиотеки Dask, CuPy или XND.\n",
    "\n",
    "* **Data Science**\n",
    "\n",
    "В основе экосистемы для анализа данных лежит NumPy. Библиотека используется на всех этапах работы с данными: извлечение и преобразование, анализ, моделирование и оценка, репрезентация.\n",
    "\n",
    "* **Machine Learning**\n",
    "\n",
    "Библиотеки для машинного обучения scikit-learn и SciPy тоже работают благодаря вычислительным мощностям NumPy.\n",
    "\n",
    "* **Визуализация данных** \n",
    "\n",
    "По сравнению непосредственно с Python возможности NumPy позволяют исследователям визуализировать наборы данных, которые гораздо больше по размеру. Например, библиотека лежит в основе системы PyViz, которая включает в себя десятки программ для визуализации."
   ]
  },
  {
   "cell_type": "markdown",
   "id": "82387ce5",
   "metadata": {},
   "source": [
    "Основными объектами с которыми работает библиотека NumPy являются массивы. \n",
    "\n",
    "Массив Numpy — это многомерный массив (ndarray, n-dimensional array) данных, над которыми можно быстро и эффективно выполнять множество математических, статистических, логических и других операций.\n",
    "\n",
    "Массивы могут иметь различную размерность и всегда содержат объекты одного типа.\n",
    "Двумерный массив можно представить как таблицу где строки это первое измерение, а столбцы - второе. \n"
   ]
  },
  {
   "cell_type": "markdown",
   "id": "028b4a80",
   "metadata": {},
   "source": [
    "Массив можно создать через np.array() передав в качестве аргумента список из которого нужно создать массив. Если будет передан пустой список, то будет создан пустой массив."
   ]
  },
  {
   "cell_type": "code",
   "execution_count": 4,
   "id": "d6518c91",
   "metadata": {},
   "outputs": [],
   "source": [
    "import numpy as np\n",
    "import matplotlib.pyplot as plt"
   ]
  },
  {
   "cell_type": "code",
   "execution_count": 5,
   "id": "44c8c6d5",
   "metadata": {},
   "outputs": [],
   "source": [
    "arr = np.array([])"
   ]
  },
  {
   "cell_type": "code",
   "execution_count": 6,
   "id": "c7c8577e",
   "metadata": {},
   "outputs": [
    {
     "name": "stdout",
     "output_type": "stream",
     "text": [
      "<class 'numpy.ndarray'>\n",
      "[]\n"
     ]
    }
   ],
   "source": [
    "print(type(arr))\n",
    "print(arr)"
   ]
  },
  {
   "cell_type": "markdown",
   "id": "ffe224ae",
   "metadata": {},
   "source": [
    "Массив может быть нулевой размерности (это число (скаляр) и квадратных скобок не имеет)."
   ]
  },
  {
   "cell_type": "code",
   "execution_count": 7,
   "id": "18d55e8b",
   "metadata": {},
   "outputs": [
    {
     "data": {
      "text/plain": [
       "array(42)"
      ]
     },
     "execution_count": 7,
     "metadata": {},
     "output_type": "execute_result"
    }
   ],
   "source": [
    "arr_0D = np.array(42)\n",
    "arr_0D"
   ]
  },
  {
   "cell_type": "code",
   "execution_count": 8,
   "id": "09f48599",
   "metadata": {},
   "outputs": [
    {
     "name": "stdout",
     "output_type": "stream",
     "text": [
      "<class 'numpy.ndarray'>\n",
      "[0 1 2 3 4 5 6 7 8 9]\n"
     ]
    }
   ],
   "source": [
    "arr = np.array([i for i in range(10)])\n",
    "print(type(arr))\n",
    "print(arr)"
   ]
  },
  {
   "cell_type": "code",
   "execution_count": 9,
   "id": "ecf68f67",
   "metadata": {},
   "outputs": [
    {
     "data": {
      "text/plain": [
       "array([0, 1, 2, 3, 4, 5, 6, 7, 8, 9])"
      ]
     },
     "execution_count": 9,
     "metadata": {},
     "output_type": "execute_result"
    }
   ],
   "source": [
    "arr = np.array((0, 1, 2, 3, 4, 5, 6, 7, 8, 9))\n",
    "arr"
   ]
  },
  {
   "cell_type": "markdown",
   "id": "21427766",
   "metadata": {},
   "source": [
    "А вот создать массив по строке таким образом не получится."
   ]
  },
  {
   "cell_type": "code",
   "execution_count": 10,
   "id": "ecbe4372",
   "metadata": {},
   "outputs": [
    {
     "name": "stdout",
     "output_type": "stream",
     "text": [
      "<class 'numpy.ndarray'>\n",
      "18217492830924\n"
     ]
    },
    {
     "ename": "TypeError",
     "evalue": "len() of unsized object",
     "output_type": "error",
     "traceback": [
      "\u001b[1;31m---------------------------------------------------------------------------\u001b[0m",
      "\u001b[1;31mTypeError\u001b[0m                                 Traceback (most recent call last)",
      "Cell \u001b[1;32mIn[10], line 4\u001b[0m\n\u001b[0;32m      2\u001b[0m \u001b[38;5;28mprint\u001b[39m(\u001b[38;5;28mtype\u001b[39m(arr))\n\u001b[0;32m      3\u001b[0m \u001b[38;5;28mprint\u001b[39m(arr)\n\u001b[1;32m----> 4\u001b[0m \u001b[38;5;28mprint\u001b[39m(\u001b[38;5;28mlen\u001b[39m(arr))\n",
      "\u001b[1;31mTypeError\u001b[0m: len() of unsized object"
     ]
    }
   ],
   "source": [
    "arr = np.array('18217492830924')\n",
    "print(type(arr))\n",
    "print(arr)\n",
    "print(len(arr))"
   ]
  },
  {
   "cell_type": "markdown",
   "id": "bd00a804",
   "metadata": {},
   "source": [
    "Другой вариант создание массива заключается в использовании функции np.arange(10). Эта функция имеет три параметра, как и функция range().\n",
    "Обязательным параметром является верхняя граница, которая не входит в последовательность."
   ]
  },
  {
   "cell_type": "code",
   "execution_count": 11,
   "id": "937cc40d",
   "metadata": {},
   "outputs": [
    {
     "data": {
      "text/plain": [
       "array([0, 1, 2, 3, 4, 5, 6, 7, 8, 9])"
      ]
     },
     "execution_count": 11,
     "metadata": {},
     "output_type": "execute_result"
    }
   ],
   "source": [
    "arr = np.arange(10)\n",
    "arr"
   ]
  },
  {
   "cell_type": "markdown",
   "id": "5d0b84fb",
   "metadata": {},
   "source": [
    "Различие range() и функции np.arange() состоит в том, что range() не допускает использования типа float."
   ]
  },
  {
   "cell_type": "markdown",
   "id": "5b7505ee",
   "metadata": {},
   "source": [
    "Тип элементов массива можно задать явным образом:"
   ]
  },
  {
   "cell_type": "code",
   "execution_count": 12,
   "id": "704d5598",
   "metadata": {},
   "outputs": [
    {
     "data": {
      "text/plain": [
       "array([ 0,  1,  2,  3,  4,  5,  6,  7,  8,  9, 10])"
      ]
     },
     "execution_count": 12,
     "metadata": {},
     "output_type": "execute_result"
    }
   ],
   "source": [
    "arr_i = np.array([0, 1, 2, 3, 4, 5, 6, 7, 8, 9, 10], int)\n",
    "arr_i"
   ]
  },
  {
   "cell_type": "code",
   "execution_count": 13,
   "id": "569c5eb5",
   "metadata": {},
   "outputs": [
    {
     "data": {
      "text/plain": [
       "array([ 0.,  1.,  2.,  3.,  4.,  5.,  6.,  7.,  8.,  9., 10.])"
      ]
     },
     "execution_count": 13,
     "metadata": {},
     "output_type": "execute_result"
    }
   ],
   "source": [
    "arr_f = np.array([0, 1, 2, 3, 4, 5, 6, 7, 8, 9, 10], float)\n",
    "arr_f"
   ]
  },
  {
   "cell_type": "code",
   "execution_count": 14,
   "id": "e2d9bcf5",
   "metadata": {},
   "outputs": [
    {
     "data": {
      "text/plain": [
       "array(['0', '1', '2', '3', '4', '5', '6', '7', '8', '9', '10'],\n",
       "      dtype='<U2')"
      ]
     },
     "execution_count": 14,
     "metadata": {},
     "output_type": "execute_result"
    }
   ],
   "source": [
    "arr_s = np.array([0, 1, 2, 3, 4, 5, 6, 7, 8, 9, 10], str)\n",
    "arr_s"
   ]
  },
  {
   "cell_type": "markdown",
   "id": "86953caf",
   "metadata": {},
   "source": [
    "### Свойства (атрибуты) массива"
   ]
  },
  {
   "cell_type": "markdown",
   "id": "10218ab6",
   "metadata": {},
   "source": [
    "Одним из свойств массива является количество его измерений - это атрибут ndim."
   ]
  },
  {
   "cell_type": "code",
   "execution_count": 15,
   "id": "72d5b7d2",
   "metadata": {},
   "outputs": [
    {
     "name": "stdout",
     "output_type": "stream",
     "text": [
      "[1 2 3 4 5]\n",
      "1\n"
     ]
    }
   ],
   "source": [
    "arr = np.array([1, 2, 3, 4, 5])\n",
    "print(arr)\n",
    "print(arr.ndim)"
   ]
  },
  {
   "cell_type": "markdown",
   "id": "f4456142",
   "metadata": {},
   "source": [
    "С помощью атрибута shape можно вывести количество элементов в каждом измерении."
   ]
  },
  {
   "cell_type": "code",
   "execution_count": 16,
   "id": "4f661021",
   "metadata": {},
   "outputs": [
    {
     "data": {
      "text/plain": [
       "(5,)"
      ]
     },
     "execution_count": 16,
     "metadata": {},
     "output_type": "execute_result"
    }
   ],
   "source": [
    "arr.shape"
   ]
  },
  {
   "cell_type": "markdown",
   "id": "f12543bf",
   "metadata": {},
   "source": [
    "Атрибут size выводит общее количество элементов во всех измерениях."
   ]
  },
  {
   "cell_type": "code",
   "execution_count": 17,
   "id": "1a07202d",
   "metadata": {},
   "outputs": [
    {
     "data": {
      "text/plain": [
       "5"
      ]
     },
     "execution_count": 17,
     "metadata": {},
     "output_type": "execute_result"
    }
   ],
   "source": [
    "arr.size"
   ]
  },
  {
   "cell_type": "markdown",
   "id": "a7d0ecc2",
   "metadata": {},
   "source": [
    "С помощью атрибута dtype можно вывести тип данных отдельного элемента."
   ]
  },
  {
   "cell_type": "code",
   "execution_count": 18,
   "id": "3278df68",
   "metadata": {},
   "outputs": [
    {
     "data": {
      "text/plain": [
       "dtype('int32')"
      ]
     },
     "execution_count": 18,
     "metadata": {},
     "output_type": "execute_result"
    }
   ],
   "source": [
    "arr.dtype"
   ]
  },
  {
   "cell_type": "markdown",
   "id": "5ad5b87c",
   "metadata": {},
   "source": [
    "Атрибут itemsize позволяет узнать размер в байтах (один байт состоит из 8 бит) одного элемента."
   ]
  },
  {
   "cell_type": "code",
   "execution_count": 19,
   "id": "12bb76c0",
   "metadata": {},
   "outputs": [
    {
     "data": {
      "text/plain": [
       "4"
      ]
     },
     "execution_count": 19,
     "metadata": {},
     "output_type": "execute_result"
    }
   ],
   "source": [
    "arr.itemsize"
   ]
  },
  {
   "cell_type": "markdown",
   "id": "06128ed7",
   "metadata": {},
   "source": [
    "Общий размер массива в байтах можно вывести через атрибут nbytes. "
   ]
  },
  {
   "cell_type": "code",
   "execution_count": 20,
   "id": "d06b4e73",
   "metadata": {},
   "outputs": [
    {
     "data": {
      "text/plain": [
       "20"
      ]
     },
     "execution_count": 20,
     "metadata": {},
     "output_type": "execute_result"
    }
   ],
   "source": [
    "arr.nbytes"
   ]
  },
  {
   "cell_type": "markdown",
   "id": "ca798f89",
   "metadata": {},
   "source": [
    "## Операции с массивами"
   ]
  },
  {
   "cell_type": "markdown",
   "id": "33248470",
   "metadata": {},
   "source": [
    "Нахождение `нормы` вектора:"
   ]
  },
  {
   "cell_type": "code",
   "execution_count": 21,
   "id": "960fd558",
   "metadata": {},
   "outputs": [
    {
     "name": "stdout",
     "output_type": "stream",
     "text": [
      "1.7320508075688772 1.7320508075688772\n"
     ]
    }
   ],
   "source": [
    "a = np.array([1.0, -1.0, 1.0])\n",
    "print(np.linalg.norm(a), 3 ** 0.5)"
   ]
  },
  {
   "cell_type": "markdown",
   "id": "5c307759",
   "metadata": {},
   "source": [
    "Есть поэлементное и скалярное произведение массивов:"
   ]
  },
  {
   "cell_type": "code",
   "execution_count": 22,
   "id": "0ebfe6b7",
   "metadata": {},
   "outputs": [
    {
     "name": "stdout",
     "output_type": "stream",
     "text": [
      "[ 1.  0. 20.]\n",
      "21.0\n"
     ]
    }
   ],
   "source": [
    "a = np.array([1.0, 0.0, 2.0])\n",
    "b = np.array([1.0, 15.0, 10.0])\n",
    "print(a * b)\n",
    "print(a @ b)"
   ]
  },
  {
   "cell_type": "markdown",
   "id": "7c536350",
   "metadata": {},
   "source": [
    "Операция `@` определена для матриц. Напомним, что матрицы размерами $n*k_1$ и $k_2*m$ можно перемножить тогда и только тогда, когда $k_1=k_2$. Метод `reshape` меняет форму и размерность массива, к которому он применяется. В скобках указываются размеры нового массива, при этом, можно указывать в качестве одного из аргументов `-1`. В этом случае размер этой оси будет рассчитан автоматически:"
   ]
  },
  {
   "cell_type": "code",
   "execution_count": 23,
   "id": "d4ddeae2",
   "metadata": {},
   "outputs": [
    {
     "name": "stdout",
     "output_type": "stream",
     "text": [
      "[[1.]\n",
      " [0.]\n",
      " [2.]]\n",
      "\n",
      "[[ 1.]\n",
      " [15.]\n",
      " [10.]]\n"
     ]
    }
   ],
   "source": [
    "a = np.array([1.0, 0.0, 2.0]).reshape(-1, 1)\n",
    "b = np.array([1.0, 15.0, 10.0]).reshape(-1, 1)\n",
    "print(a)\n",
    "print()\n",
    "print(b)"
   ]
  },
  {
   "cell_type": "code",
   "execution_count": 24,
   "id": "146bd163",
   "metadata": {},
   "outputs": [
    {
     "ename": "ValueError",
     "evalue": "matmul: Input operand 1 has a mismatch in its core dimension 0, with gufunc signature (n?,k),(k,m?)->(n?,m?) (size 3 is different from 1)",
     "output_type": "error",
     "traceback": [
      "\u001b[1;31m---------------------------------------------------------------------------\u001b[0m",
      "\u001b[1;31mValueError\u001b[0m                                Traceback (most recent call last)",
      "Cell \u001b[1;32mIn[24], line 1\u001b[0m\n\u001b[1;32m----> 1\u001b[0m \u001b[38;5;28mprint\u001b[39m(a \u001b[38;5;241m@\u001b[39m b)\n",
      "\u001b[1;31mValueError\u001b[0m: matmul: Input operand 1 has a mismatch in its core dimension 0, with gufunc signature (n?,k),(k,m?)->(n?,m?) (size 3 is different from 1)"
     ]
    }
   ],
   "source": [
    "print(a @ b)"
   ]
  },
  {
   "cell_type": "markdown",
   "id": "a0732923",
   "metadata": {},
   "source": [
    "Получили ошибку, потому что пытались перемножить 2 матрицы $3*1$."
   ]
  },
  {
   "cell_type": "code",
   "execution_count": 25,
   "id": "8c279597",
   "metadata": {},
   "outputs": [
    {
     "name": "stdout",
     "output_type": "stream",
     "text": [
      "[[1. 0. 2.]]\n",
      "\n",
      "[[ 1.]\n",
      " [15.]\n",
      " [10.]]\n"
     ]
    }
   ],
   "source": [
    "a = np.array([1.0, 0.0, 2.0]).reshape(1, -1)\n",
    "b = np.array([1.0, 15.0, 10.0]).reshape(-1, 1)\n",
    "print(a)\n",
    "print()\n",
    "print(b)"
   ]
  },
  {
   "cell_type": "code",
   "execution_count": 26,
   "id": "46c61fee",
   "metadata": {},
   "outputs": [
    {
     "name": "stdout",
     "output_type": "stream",
     "text": [
      "[[21.]]\n"
     ]
    }
   ],
   "source": [
    "print(a @ b)"
   ]
  },
  {
   "cell_type": "markdown",
   "id": "2e306781",
   "metadata": {},
   "source": [
    "Получили двумерную матрицу размером $1*1$. Чтобы вытащить число, обратимся к нему по индексам:"
   ]
  },
  {
   "cell_type": "code",
   "execution_count": 27,
   "id": "490579c4",
   "metadata": {},
   "outputs": [
    {
     "name": "stdout",
     "output_type": "stream",
     "text": [
      "21.0\n"
     ]
    }
   ],
   "source": [
    "print((a @ b)[0][0])"
   ]
  },
  {
   "cell_type": "markdown",
   "id": "f2c7beb6",
   "metadata": {},
   "source": [
    "**Упражнение 1.** Перемножить матрицы $A$ и $B$ двумя способами: с использованием numpy, затем без использования numpy."
   ]
  },
  {
   "cell_type": "code",
   "execution_count": 28,
   "id": "32fda35a",
   "metadata": {},
   "outputs": [],
   "source": [
    "A = np.array([[1.0, 2.0, 3.0], \n",
    "              [4.0, 5.0, 6.0]])\n",
    "B = np.array([[1.0, 0.0], \n",
    "              [0.0, 1.0], \n",
    "              [1.0, 1.0]])"
   ]
  },
  {
   "cell_type": "code",
   "execution_count": 29,
   "id": "35d89b3b",
   "metadata": {},
   "outputs": [
    {
     "name": "stdout",
     "output_type": "stream",
     "text": [
      "[[ 4.  5.]\n",
      " [10. 11.]]\n"
     ]
    }
   ],
   "source": [
    "print(A @ B)"
   ]
  },
  {
   "cell_type": "code",
   "execution_count": 2,
   "id": "1f05cd26",
   "metadata": {},
   "outputs": [
    {
     "name": "stdout",
     "output_type": "stream",
     "text": [
      "[4.0, 5.0]\n",
      "[10.0, 11.0]\n"
     ]
    }
   ],
   "source": [
    "A = [[1.0, 2.0, 3.0], [4.0, 5.0, 6.0]]\n",
    "B = [[1.0, 0.0], [0.0, 1.0], [1.0, 1.0]]\n",
    "C = [[None for i in range(2)] for j in range(2)]\n",
    "for i in range(2):\n",
    "    for j in range(2):\n",
    "        C[i][j] = sum(A[i][k] * B[k][j] for k in range(3))\n",
    "for item in C:\n",
    "    print(item)"
   ]
  },
  {
   "cell_type": "markdown",
   "id": "a7bcb0e1",
   "metadata": {},
   "source": [
    "**Упражнение 2.** Найти косинус угла между векторами $a$ и $b$."
   ]
  },
  {
   "cell_type": "code",
   "execution_count": 31,
   "id": "3b4a580c",
   "metadata": {},
   "outputs": [],
   "source": [
    "a = np.array([1.0, 0.0, 2.0])\n",
    "b = np.array([1.0, 15.0, 10.0])"
   ]
  },
  {
   "cell_type": "code",
   "execution_count": 32,
   "id": "0d0101ef",
   "metadata": {},
   "outputs": [
    {
     "name": "stdout",
     "output_type": "stream",
     "text": [
      "0.5201462748489734\n"
     ]
    }
   ],
   "source": [
    "print((a @ b) / (np.linalg.norm(a) * np.linalg.norm(b)))"
   ]
  },
  {
   "attachments": {
    "image.png": {
     "image/png": "[encoded data removed]"
    }
   },
   "cell_type": "markdown",
   "id": "e4038b56",
   "metadata": {},
   "source": [
    "Чтобы провести через набор экспериментальных точек наилучшую прямую, используются следующие формулы:![image.png](attachment:image.png)"
   ]
  },
  {
   "cell_type": "code",
   "execution_count": 33,
   "id": "d4727594",
   "metadata": {},
   "outputs": [
    {
     "name": "stdout",
     "output_type": "stream",
     "text": [
      "[0.         0.55555556 1.11111111 1.66666667 2.22222222 2.77777778\n",
      " 3.33333333 3.88888889 4.44444444 5.        ]\n",
      "[-5.         -3.88888889 -2.77777778 -1.66666667 -0.55555556  0.55555556\n",
      "  1.66666667  2.77777778  3.88888889  5.        ]\n"
     ]
    },
    {
     "data": {
      "text/plain": [
       "<matplotlib.collections.PathCollection at 0x219d8650810>"
      ]
     },
     "execution_count": 33,
     "metadata": {},
     "output_type": "execute_result"
    },
    {
     "data": {
      "image/png": "[encoded data removed]",
      "text/plain": [
       "<Figure size 640x480 with 1 Axes>"
      ]
     },
     "metadata": {},
     "output_type": "display_data"
    }
   ],
   "source": [
    "x = np.linspace(0.0, 5.0, 10)\n",
    "y = 2 * x - 5\n",
    "print(x)\n",
    "print(y)\n",
    "plt.scatter(x, y)"
   ]
  },
  {
   "cell_type": "markdown",
   "id": "d3fd7cb8",
   "metadata": {},
   "source": [
    "Добавим к данным шум. `np.random.randn(n)` вовзвращает `n` сэмплов из стандартного нормального распределения."
   ]
  },
  {
   "cell_type": "code",
   "execution_count": 34,
   "id": "bd7ee1e8",
   "metadata": {},
   "outputs": [
    {
     "name": "stdout",
     "output_type": "stream",
     "text": [
      "[ 0.64551949  1.75735325  1.05998885  0.76767814 -0.11589457  0.40474447\n",
      "  1.05277073 -0.09414558  1.75774648  0.28437716]\n",
      "[ 0.1291039   0.35147065  0.21199777  0.15353563 -0.02317891  0.08094889\n",
      "  0.21055415 -0.01882912  0.3515493   0.05687543]\n"
     ]
    }
   ],
   "source": [
    "eps = np.random.randn(y.shape[0])\n",
    "print(eps)\n",
    "print(eps * 0.2)"
   ]
  },
  {
   "cell_type": "code",
   "execution_count": 35,
   "id": "d4b8193f",
   "metadata": {},
   "outputs": [
    {
     "data": {
      "text/plain": [
       "<matplotlib.collections.PathCollection at 0x219d86519d0>"
      ]
     },
     "execution_count": 35,
     "metadata": {},
     "output_type": "execute_result"
    },
    {
     "data": {
      "image/png": "[encoded data removed]",
      "text/plain": [
       "<Figure size 640x480 with 1 Axes>"
      ]
     },
     "metadata": {},
     "output_type": "display_data"
    }
   ],
   "source": [
    "y = y + eps * 0.2\n",
    "plt.scatter(x, y)"
   ]
  },
  {
   "cell_type": "markdown",
   "id": "74cb0420",
   "metadata": {},
   "source": [
    "**Упражнение 3.** Найти и нарисовать наилучшую прямую для x, y из предыдущей ячейки."
   ]
  },
  {
   "cell_type": "code",
   "execution_count": 36,
   "id": "c3556bc4",
   "metadata": {},
   "outputs": [
    {
     "data": {
      "text/plain": [
       "(-4.970896101228141, 6.056875432281145)"
      ]
     },
     "execution_count": 36,
     "metadata": {},
     "output_type": "execute_result"
    },
    {
     "data": {
      "image/png": "[encoded data removed]",
      "text/plain": [
       "<Figure size 640x480 with 1 Axes>"
      ]
     },
     "metadata": {},
     "output_type": "display_data"
    }
   ],
   "source": [
    "plt.scatter(x, y)\n",
    "mx = x.sum() / x.size\n",
    "my = y.sum() / x.size\n",
    "mxy = (x @ y).sum() / x.size\n",
    "mxx = (x @ x).sum() / x.size\n",
    "k = (mxy - mx * my) / (mxx - mx * mx)\n",
    "b = my - k * mx\n",
    "func = np.array([k * z + b for z in range(x.size)]) \n",
    "plt.plot(func, c='magenta')\n",
    "plt.xlim(x.min() - 0.1, x.max() + 1)\n",
    "plt.ylim(y.min() - 0.1, y.max() + 1)"
   ]
  },
  {
   "cell_type": "markdown",
   "id": "b4f433a8",
   "metadata": {},
   "source": [
    "Библиотеку `numpy` удобно использовать для решения систем линейных уравнений. Если система уравнений $Ax=y$ имеет решение, и при этом только одно, то оно выражается как $x=A^{-1} y$. Для обращения матрицы используется функция `np.linalg.inv`. Рассмотрим систему уравнений:\n",
    "$$\n",
    "\\left\\{ \n",
    "\\begin{array}{c}\n",
    "y+3z=-1 \\\\ \n",
    "2x+3y+5z=3 \\\\ \n",
    "3x+5y+7z=6\n",
    "\\end{array}\n",
    "\\right. \n",
    "$$"
   ]
  },
  {
   "cell_type": "code",
   "execution_count": 37,
   "id": "0074699f",
   "metadata": {
    "scrolled": true
   },
   "outputs": [
    {
     "name": "stdout",
     "output_type": "stream",
     "text": [
      "[ 1.  2. -1.]\n"
     ]
    }
   ],
   "source": [
    "A = np.array([[0.0, 1.0, 3.0],\n",
    "              [2.0, 3.0, 5.0],\n",
    "              [3.0, 5.0, 7.0]])\n",
    "y = np.array([-1.0, 3.0, 6.0])\n",
    "print(np.linalg.inv(A) @ y)"
   ]
  },
  {
   "cell_type": "markdown",
   "id": "be7ab49a",
   "metadata": {},
   "source": [
    "**Упражнение 4.** Решить систему уравнений:\n",
    "$$\n",
    "\\left\\{ \n",
    "\\begin{array}{c}\n",
    "2x+3y+4z+5t=30 \\\\ \n",
    "3x+3y+4z+5t=34 \\\\ \n",
    "4x+4y+4z+5t=41 \\\\\n",
    "x+y+z+t=10\n",
    "\\end{array}\n",
    "\\right. \n",
    "$$"
   ]
  },
  {
   "cell_type": "code",
   "execution_count": 38,
   "id": "602aae2f",
   "metadata": {},
   "outputs": [
    {
     "name": "stdout",
     "output_type": "stream",
     "text": [
      "[4. 3. 2. 1.]\n"
     ]
    }
   ],
   "source": [
    "A = np.array([[2, 3, 4, 5],\n",
    "             [3, 3, 4, 5], \n",
    "             [4, 4, 4, 5],\n",
    "             [1, 1, 1, 1]])\n",
    "y = np.array([30, 34, 41, 10])\n",
    "print(np.linalg.inv(A) @ y)"
   ]
  },
  {
   "cell_type": "markdown",
   "id": "1ff8809d",
   "metadata": {},
   "source": [
    "## Другие функции и особенности numpy"
   ]
  },
  {
   "cell_type": "code",
   "execution_count": 39,
   "id": "3c763be9",
   "metadata": {},
   "outputs": [
    {
     "name": "stdout",
     "output_type": "stream",
     "text": [
      "[ True False False]\n",
      "True\n",
      "False\n"
     ]
    }
   ],
   "source": [
    "a = np.array([1.0, 2.0, 3.0])\n",
    "b = np.array([1.0, 1.0, 1.0])\n",
    "print(a == b)\n",
    "print((a == b).any())\n",
    "print((a == b).all())"
   ]
  },
  {
   "cell_type": "markdown",
   "id": "0114a22f",
   "metadata": {},
   "source": [
    "Отсюда возникает следующая ситуация: в условной конструкции `if`, а также в цикле `while` в условии нужно указывать `any` или `all`."
   ]
  },
  {
   "cell_type": "code",
   "execution_count": 40,
   "id": "45aca54e",
   "metadata": {},
   "outputs": [
    {
     "name": "stdout",
     "output_type": "stream",
     "text": [
      "[[1. 1.]]\n"
     ]
    },
    {
     "ename": "ValueError",
     "evalue": "The truth value of an array with more than one element is ambiguous. Use a.any() or a.all()",
     "output_type": "error",
     "traceback": [
      "\u001b[1;31m---------------------------------------------------------------------------\u001b[0m",
      "\u001b[1;31mValueError\u001b[0m                                Traceback (most recent call last)",
      "Cell \u001b[1;32mIn[40], line 4\u001b[0m\n\u001b[0;32m      2\u001b[0m b \u001b[38;5;241m=\u001b[39m a\n\u001b[0;32m      3\u001b[0m \u001b[38;5;28mprint\u001b[39m(a)\n\u001b[1;32m----> 4\u001b[0m \u001b[38;5;28;01mif\u001b[39;00m a \u001b[38;5;241m==\u001b[39m b:\n\u001b[0;32m      5\u001b[0m     \u001b[38;5;28mprint\u001b[39m(\u001b[38;5;241m1\u001b[39m)\n",
      "\u001b[1;31mValueError\u001b[0m: The truth value of an array with more than one element is ambiguous. Use a.any() or a.all()"
     ]
    }
   ],
   "source": [
    "a = np.ones((1, 2))\n",
    "b = a\n",
    "print(a)\n",
    "if a == b:\n",
    "    print(1)"
   ]
  },
  {
   "cell_type": "code",
   "execution_count": 41,
   "id": "f6d3abda",
   "metadata": {},
   "outputs": [
    {
     "name": "stdout",
     "output_type": "stream",
     "text": [
      "1\n"
     ]
    }
   ],
   "source": [
    "a = np.ones((1, 2))\n",
    "b = a\n",
    "if (a == b).all():\n",
    "    print(1)"
   ]
  },
  {
   "cell_type": "markdown",
   "id": "b65b8eb6",
   "metadata": {},
   "source": [
    "Функции `zeros`, `ones` используются для создания массивов заданного размера, заполненных нулями или единицами. Выше при рисовании графика для создания массива x была использована функция `linspace(a, b, n)`, которая создает массив n чисел от a до b, упорядоченных по возрастанию с равными интервалами. Существуют также функции для агрегации (`all` и `any` тоже относятся к ним):"
   ]
  },
  {
   "cell_type": "code",
   "execution_count": 42,
   "id": "8205f3f7",
   "metadata": {},
   "outputs": [
    {
     "name": "stdout",
     "output_type": "stream",
     "text": [
      "21.0\n",
      "3.0\n",
      "1.4285714285714286\n",
      "1.1952286093343936\n",
      "5.0\n",
      "1.0\n"
     ]
    }
   ],
   "source": [
    "a = np.array([1.0, 2.0, 3.0, 3.0, 3.0, 4.0, 5.0])\n",
    "print(a.sum())\n",
    "print(a.mean())\n",
    "print(a.var())\n",
    "print(a.std())\n",
    "print(a.max())\n",
    "print(a.min())"
   ]
  },
  {
   "cell_type": "markdown",
   "id": "d214ffc7",
   "metadata": {},
   "source": [
    "Можно делать срезы и свертку по осям:"
   ]
  },
  {
   "cell_type": "code",
   "execution_count": 43,
   "id": "8c945965",
   "metadata": {},
   "outputs": [
    {
     "name": "stdout",
     "output_type": "stream",
     "text": [
      "[[1. 2.]\n",
      " [1. 2.]]\n"
     ]
    }
   ],
   "source": [
    "a = np.array([[1.0, 2.0, 3.0, 3.0, 3.0, 4.0, 5.0],\n",
    "              [1.0, 2.0, 3.0, 3.0, 3.0, 4.0, 5.0],\n",
    "              [1.0, 2.0, 3.0, 3.0, 3.0, 4.0, 5.0]])\n",
    "print(a[:2,:2])"
   ]
  },
  {
   "cell_type": "code",
   "execution_count": 44,
   "id": "7802f5ac",
   "metadata": {},
   "outputs": [
    {
     "name": "stdout",
     "output_type": "stream",
     "text": [
      "[[1. 2. 3. 3.]\n",
      " [1. 2. 3. 3.]\n",
      " [1. 2. 3. 3.]]\n"
     ]
    }
   ],
   "source": [
    "print(a[:,:4])"
   ]
  },
  {
   "cell_type": "code",
   "execution_count": 45,
   "id": "1ff36d51",
   "metadata": {},
   "outputs": [
    {
     "name": "stdout",
     "output_type": "stream",
     "text": [
      "[[1. 2. 3. 3. 3. 4. 5.]\n",
      " [1. 2. 3. 3. 3. 4. 5.]]\n"
     ]
    }
   ],
   "source": [
    "print(a[1:,:])"
   ]
  },
  {
   "cell_type": "code",
   "execution_count": 46,
   "id": "76c4a275",
   "metadata": {},
   "outputs": [
    {
     "name": "stdout",
     "output_type": "stream",
     "text": [
      "21.0 21.0\n",
      "[5. 7. 9.]\n",
      "[ 6. 15.]\n",
      "6.0 6.0\n",
      "[4. 5. 6.]\n",
      "[3. 6.]\n"
     ]
    }
   ],
   "source": [
    "a = np.array([[1.0, 2.0, 3.0],\n",
    "              [4.0, 5.0, 6.0]])\n",
    "print(a.sum(), np.sum(a))\n",
    "print(np.sum(a, axis=0))\n",
    "print(np.sum(a, axis=1))\n",
    "print(a.max(), np.max(a))\n",
    "print(np.max(a, axis=0))\n",
    "print(np.max(a, axis=1))"
   ]
  },
  {
   "cell_type": "markdown",
   "id": "f490ee6b",
   "metadata": {},
   "source": [
    "**Упражнение 5.** \n",
    "1. Создать матрицу случайных чисел $3*5$ из стандартного нормального распределения. \n",
    "2. Среди наибольших элементов в столбцах найти наименьший.\n",
    "3. Умножить эту матрицу на себя транспонированную.\n",
    "4. Найти стандартное отклонение по строкам, по столбцам и по всей матрице.\n",
    "5. Для разных размеров таких матриц посмотреть, как будет меняться std по всей матрице в зависимости от ее размеров. Можно рассмотреть квадратные матрицы $n*n$, где n будет равномерно расти от 10 до 1010. Использовать `linspace` для `n`, построить график."
   ]
  },
  {
   "cell_type": "code",
   "execution_count": 47,
   "id": "fe727a46",
   "metadata": {},
   "outputs": [
    {
     "data": {
      "image/png": "[encoded data removed]",
      "text/plain": [
       "<Figure size 640x480 with 1 Axes>"
      ]
     },
     "metadata": {},
     "output_type": "display_data"
    }
   ],
   "source": [
    "a = np.array([])\n",
    "for n in [10, 20, 50, 100, 200, 500, 1000, 5000, 10000]:\n",
    "    b = np.random.randn(n, n)\n",
    "    a = np.append(a, b.std())\n",
    "plt.scatter([10, 20, 50, 100, 200, 500, 1000, 5000, 10000], a)\n",
    "plt.title('Стандартное отклонение для выборки из n случайных чисел')\n",
    "plt.ylabel('Стандартное отклонение')\n",
    "plt.xlabel('n - размер выборки');"
   ]
  },
  {
   "cell_type": "code",
   "execution_count": 58,
   "id": "d3c3ffea",
   "metadata": {
    "scrolled": true
   },
   "outputs": [
    {
     "name": "stdout",
     "output_type": "stream",
     "text": [
      "0.24509498059665172\n",
      "\n",
      "[[ 0.61575928 -0.11897036  0.61111472  0.22211161  1.52920198]\n",
      " [-0.11897036  1.61723731 -0.15449127  2.05841231 -1.05686064]\n",
      " [ 0.61111472 -0.15449127  1.24325594  0.73390878  1.05563919]\n",
      " [ 0.22211161  2.05841231  0.73390878  3.345547   -0.87527705]\n",
      " [ 1.52920198 -1.05686064  1.05563919 -0.87527705  4.5227631 ]]\n",
      "\n",
      "[0.66602739 0.42300541 0.93392763]\n",
      "\n",
      "[0.41474776 0.31291262 0.54900477 0.84083089 1.04357007]\n",
      "\n",
      "0.8692215962872452\n",
      "\n"
     ]
    },
    {
     "data": {
      "text/plain": [
       "Text(0.5, 0, 'n - размер выборки')"
      ]
     },
     "execution_count": 58,
     "metadata": {},
     "output_type": "execute_result"
    },
    {
     "data": {
      "image/png": "[encoded data removed]",
      "text/plain": [
       "<Figure size 640x480 with 1 Axes>"
      ]
     },
     "metadata": {},
     "output_type": "display_data"
    }
   ],
   "source": [
    "#1)\n",
    "a = np.random.randn(5, 3)\n",
    "print(min(np.max(a, axis=1)))\n",
    "print()\n",
    "#2)\n",
    "print(a.std())\n",
    "print()\n",
    "#3)\n",
    "print(a @ a.T)\n",
    "print()\n",
    "#4)\n",
    "print(np.std(a, axis=0))\n",
    "print()\n",
    "print(np.std(a, axis=1))\n",
    "print()\n",
    "#5)\n",
    "n = np.linspace(10, 1010, 1001, dtype=int)\n",
    "a = np.array([])\n",
    "for i in n:\n",
    "    b = np.random.randn(i, i)\n",
    "    a = np.append(a, b.std())\n",
    "plt.scatter(n, a)\n",
    "plt.title('Стандартное отклонение для выборки из n случайных чисел')\n",
    "plt.ylabel('Стандартное отклонение')\n",
    "plt.xlabel('n - размер выборки')"
   ]
  },
  {
   "cell_type": "code",
   "execution_count": 55,
   "id": "3661378f",
   "metadata": {},
   "outputs": [
    {
     "name": "stdout",
     "output_type": "stream",
     "text": [
      "[1. 4. 9.]\n"
     ]
    }
   ],
   "source": [
    "def f(x):\n",
    "      return x ** 2\n",
    "a = np.array([1.0, 2.0, 3.0])\n",
    "print(np.vectorize(f)(a))"
   ]
  },
  {
   "cell_type": "code",
   "execution_count": 48,
   "id": "9b446ace",
   "metadata": {},
   "outputs": [
    {
     "name": "stdout",
     "output_type": "stream",
     "text": [
      "[ 1. 16. 81.]\n"
     ]
    }
   ],
   "source": [
    "print(np.vectorize(f)(np.vectorize(f)(a)))"
   ]
  },
  {
   "cell_type": "code",
   "execution_count": 49,
   "id": "f8d396b1",
   "metadata": {},
   "outputs": [
    {
     "name": "stdout",
     "output_type": "stream",
     "text": [
      "[ 1. 16. 81.]\n"
     ]
    }
   ],
   "source": [
    "f1 = np.vectorize(f)\n",
    "print(f1(f1(a)))"
   ]
  },
  {
   "cell_type": "markdown",
   "id": "6873b948",
   "metadata": {},
   "source": [
    "**Упражнение 6.** На основе массивов a и b с помощью функции `vectorize` создайте массив, каждый элемент которого - минимальный по модулю из соответствующих элементов a и b."
   ]
  },
  {
   "cell_type": "code",
   "execution_count": 65,
   "id": "d2a4fe79",
   "metadata": {},
   "outputs": [
    {
     "name": "stdout",
     "output_type": "stream",
     "text": [
      "[-3.  -1.5 -3. ]\n"
     ]
    }
   ],
   "source": [
    "a = np.array([1.0, 2.0, -3.0])\n",
    "b = np.array([-3.0, -1.5, 3.5])\n",
    "def f(x, y):\n",
    "    return min(x, y)\n",
    "print(np.vectorize(f)(a, b))"
   ]
  },
  {
   "cell_type": "markdown",
   "id": "5eb96bfd",
   "metadata": {},
   "source": [
    "## Логические матрицы"
   ]
  },
  {
   "cell_type": "code",
   "execution_count": 66,
   "id": "2353a802",
   "metadata": {},
   "outputs": [
    {
     "name": "stdout",
     "output_type": "stream",
     "text": [
      "[1.]\n",
      "[2. 3.]\n"
     ]
    }
   ],
   "source": [
    "a = np.array([1.0, 2.0, 3.0])\n",
    "print(a[a < 2])\n",
    "print(a[a >= 2])"
   ]
  },
  {
   "cell_type": "code",
   "execution_count": 52,
   "id": "756ad588",
   "metadata": {},
   "outputs": [
    {
     "name": "stdout",
     "output_type": "stream",
     "text": [
      "[0. 2. 3.]\n"
     ]
    }
   ],
   "source": [
    "a[a < 2] = 0\n",
    "print(a)"
   ]
  },
  {
   "cell_type": "code",
   "execution_count": 10,
   "id": "1aafaa54",
   "metadata": {},
   "outputs": [
    {
     "name": "stdout",
     "output_type": "stream",
     "text": [
      "[1.5 3. ]\n"
     ]
    }
   ],
   "source": [
    "a = np.array([1.0, 2.0, 3.0])\n",
    "b = np.array([1.5, 3.0, 3.0])\n",
    "print(b[a <= 2])"
   ]
  },
  {
   "cell_type": "markdown",
   "id": "7250f75a",
   "metadata": {},
   "source": [
    "**Упражнение 7.** Умножить матрицу A на себя транспонированную. В исходной матрице обнулить те элементы, которые больше, чем элементы в полученной матрице, стоящие на тех же местах."
   ]
  },
  {
   "cell_type": "code",
   "execution_count": 115,
   "id": "6ebe1940",
   "metadata": {
    "scrolled": true
   },
   "outputs": [
    {
     "name": "stdout",
     "output_type": "stream",
     "text": [
      "[[ 1.   -0.75]\n",
      " [ 0.    0.25]]\n"
     ]
    }
   ],
   "source": [
    "A = np.array([[1.0, -0.75],\n",
    "              [-0.5, 0.25]])\n",
    "B = A @ A.T\n",
    "A[A > B] = 0\n",
    "print(A)"
   ]
  },
  {
   "cell_type": "code",
   "execution_count": 114,
   "id": "ec2dce26",
   "metadata": {},
   "outputs": [
    {
     "name": "stdout",
     "output_type": "stream",
     "text": [
      "[[ 1.25   -0.625 ]\n",
      " [-0.625   0.3125]]\n"
     ]
    }
   ],
   "source": [
    "A = np.array([[1.0, -0.5],\n",
    "              [-0.5, 0.25]])\n",
    "print(A @ A.T)"
   ]
  },
  {
   "cell_type": "markdown",
   "id": "3c464560",
   "metadata": {},
   "source": [
    "Часто используется также функция `np.where`. У нее 3 аргумента - условие, значение элемента, если условие выполняется и значение элемента, если условие не выполняется."
   ]
  },
  {
   "cell_type": "code",
   "execution_count": 12,
   "id": "010bd7cb",
   "metadata": {},
   "outputs": [
    {
     "name": "stdout",
     "output_type": "stream",
     "text": [
      "[-1.  0.  0. -4.  0.]\n"
     ]
    }
   ],
   "source": [
    "a = np.array([-1.0, 2.0, 3.0, -4.0, 5.0])\n",
    "print(np.where(a < 0, a, 0))"
   ]
  },
  {
   "cell_type": "code",
   "execution_count": 13,
   "id": "1582fa7e",
   "metadata": {},
   "outputs": [
    {
     "name": "stdout",
     "output_type": "stream",
     "text": [
      "[ 0.  0.  0. -4.  0.]\n"
     ]
    }
   ],
   "source": [
    "a = np.array([-1.0, 2.0, 3.0, -4.0, 5.0])\n",
    "print(np.where((a < 0) & (a % 2 == 0), a, 0))"
   ]
  },
  {
   "cell_type": "code",
   "execution_count": 14,
   "id": "6b6e555f",
   "metadata": {},
   "outputs": [
    {
     "data": {
      "text/plain": [
       "array([-4.])"
      ]
     },
     "execution_count": 14,
     "metadata": {},
     "output_type": "execute_result"
    }
   ],
   "source": [
    "a = np.array([-1.0, 2.0, 3.0, -4.0, 5.0])\n",
    "a[(a < 0) & (a % 2 == 0)]"
   ]
  },
  {
   "cell_type": "markdown",
   "id": "c746db44",
   "metadata": {},
   "source": [
    "**Упражнение 8.** С помощью `linspace` создать массив из натуральных чисел от 1 до 31. Из него удалить те элементы, которые не делятся на 3. Среди оставшихся обнулить те, которые не делятся на 9."
   ]
  },
  {
   "cell_type": "code",
   "execution_count": 14,
   "id": "9288aaf1",
   "metadata": {},
   "outputs": [
    {
     "data": {
      "text/plain": [
       "array([ 0,  0,  9,  0,  0, 18,  0,  0, 27,  0])"
      ]
     },
     "execution_count": 14,
     "metadata": {},
     "output_type": "execute_result"
    }
   ],
   "source": [
    "massive = np.linspace(1, 31, 31, dtype=int)\n",
    "np.where(massive[massive % 3 == 0] % 9 == 0, massive[massive % 3 == 0], 0)"
   ]
  },
  {
   "cell_type": "markdown",
   "id": "50ee622d",
   "metadata": {},
   "source": [
    "### Создание массива из функции индексов"
   ]
  },
  {
   "cell_type": "code",
   "execution_count": 15,
   "id": "d2535955",
   "metadata": {},
   "outputs": [
    {
     "data": {
      "text/plain": [
       "array([[0, 1, 2],\n",
       "       [1, 2, 3],\n",
       "       [2, 3, 4]])"
      ]
     },
     "execution_count": 15,
     "metadata": {},
     "output_type": "execute_result"
    }
   ],
   "source": [
    "np.fromfunction(lambda i, j: i + j, (3, 3), dtype=int)"
   ]
  },
  {
   "cell_type": "code",
   "execution_count": 16,
   "id": "06f62f20",
   "metadata": {},
   "outputs": [
    {
     "data": {
      "text/plain": [
       "array([[0, 0, 0],\n",
       "       [1, 1, 1],\n",
       "       [2, 2, 2]])"
      ]
     },
     "execution_count": 16,
     "metadata": {},
     "output_type": "execute_result"
    }
   ],
   "source": [
    "np.fromfunction(lambda i, j: i, (3, 3), dtype=int)"
   ]
  },
  {
   "cell_type": "code",
   "execution_count": 17,
   "id": "bb9adf41",
   "metadata": {},
   "outputs": [
    {
     "data": {
      "text/plain": [
       "array([[0, 1, 2],\n",
       "       [0, 1, 2],\n",
       "       [0, 1, 2]])"
      ]
     },
     "execution_count": 17,
     "metadata": {},
     "output_type": "execute_result"
    }
   ],
   "source": [
    "np.fromfunction(lambda i, j: j, (3, 3), dtype=int)"
   ]
  },
  {
   "cell_type": "markdown",
   "id": "d936b7cb",
   "metadata": {},
   "source": [
    "**Упражнение 9.** Создать с помощью `fromfunction` единичную матрицу."
   ]
  },
  {
   "cell_type": "code",
   "execution_count": 19,
   "id": "8b4eec92",
   "metadata": {},
   "outputs": [
    {
     "data": {
      "text/plain": [
       "array([[1, 0, 0],\n",
       "       [0, 1, 0],\n",
       "       [0, 0, 1]])"
      ]
     },
     "execution_count": 19,
     "metadata": {},
     "output_type": "execute_result"
    }
   ],
   "source": [
    "np.fromfunction(lambda i, j: (i == j) * 1, (3, 3), dtype=int)"
   ]
  },
  {
   "cell_type": "markdown",
   "id": "ec53edeb",
   "metadata": {},
   "source": [
    "**Упражнение 10.** Дан массив (числа от -100 до 100), поменять знак у элементов, значения которых между 1 и 10."
   ]
  },
  {
   "cell_type": "code",
   "execution_count": 23,
   "id": "157464ff",
   "metadata": {},
   "outputs": [
    {
     "data": {
      "text/plain": [
       "array([-100,  -99,  -98,  -97,  -96,  -95,  -94,  -93,  -92,  -91,  -90,\n",
       "        -89,  -88,  -87,  -86,  -85,  -84,  -83,  -82,  -81,  -80,  -79,\n",
       "        -78,  -77,  -76,  -75,  -74,  -73,  -72,  -71,  -70,  -69,  -68,\n",
       "        -67,  -66,  -65,  -64,  -63,  -62,  -61,  -60,  -59,  -58,  -57,\n",
       "        -56,  -55,  -54,  -53,  -52,  -51,  -50,  -49,  -48,  -47,  -46,\n",
       "        -45,  -44,  -43,  -42,  -41,  -40,  -39,  -38,  -37,  -36,  -35,\n",
       "        -34,  -33,  -32,  -31,  -30,  -29,  -28,  -27,  -26,  -25,  -24,\n",
       "        -23,  -22,  -21,  -20,  -19,  -18,  -17,  -16,  -15,  -14,  -13,\n",
       "        -12,  -11,  -10,   -9,   -8,   -7,   -6,   -5,   -4,   -3,   -2,\n",
       "         -1,    0,   -1,   -2,   -3,   -4,   -5,   -6,   -7,   -8,   -9,\n",
       "        -10,   11,   12,   13,   14,   15,   16,   17,   18,   19,   20,\n",
       "         21,   22,   23,   24,   25,   26,   27,   28,   29,   30,   31,\n",
       "         32,   33,   34,   35,   36,   37,   38,   39,   40,   41,   42,\n",
       "         43,   44,   45,   46,   47,   48,   49,   50,   51,   52,   53,\n",
       "         54,   55,   56,   57,   58,   59,   60,   61,   62,   63,   64,\n",
       "         65,   66,   67,   68,   69,   70,   71,   72,   73,   74,   75,\n",
       "         76,   77,   78,   79,   80,   81,   82,   83,   84,   85,   86,\n",
       "         87,   88,   89,   90,   91,   92,   93,   94,   95,   96,   97,\n",
       "         98,  100])"
      ]
     },
     "execution_count": 23,
     "metadata": {},
     "output_type": "execute_result"
    }
   ],
   "source": [
    "arr = np.linspace(-100, 100, 200, dtype=int)\n",
    "np.where((arr > 0) & (arr < 11), -arr, arr)"
   ]
  },
  {
   "cell_type": "markdown",
   "id": "49bb5ae5",
   "metadata": {},
   "source": [
    "**Упражнение 11.** С клавиатуры введены элементы двух массивов. В одной строке вводится один массив. Проверить, одинаковы ли 2 numpy массива."
   ]
  },
  {
   "cell_type": "code",
   "execution_count": 37,
   "id": "e7b533b9",
   "metadata": {},
   "outputs": [
    {
     "name": "stdout",
     "output_type": "stream",
     "text": [
      "1 2 3\n",
      "1 2 4\n",
      "False\n"
     ]
    }
   ],
   "source": [
    "A = np.array([input().split()])\n",
    "B = np.array([input().split()])\n",
    "print((A == B).all())"
   ]
  },
  {
   "cell_type": "markdown",
   "id": "c03e68e5",
   "metadata": {},
   "source": [
    "**Упражнение 12.** Сделать массив неизменяемым (для этого потребуется посмотреть документацию)."
   ]
  },
  {
   "cell_type": "code",
   "execution_count": 44,
   "id": "0c39b591",
   "metadata": {},
   "outputs": [
    {
     "data": {
      "text/plain": [
       "array([ 1,  2,  3,  4,  5,  6,  7,  8,  9, 10])"
      ]
     },
     "execution_count": 44,
     "metadata": {},
     "output_type": "execute_result"
    }
   ],
   "source": [
    "okk = np.linspace(1, 10, 10, dtype=int)\n",
    "okk.setflags(write=1)\n",
    "okk"
   ]
  },
  {
   "cell_type": "markdown",
   "id": "43c4862e",
   "metadata": {},
   "source": [
    "**Упражнение 13.** Определить, есть ли в 2D массиве нулевые столбцы."
   ]
  },
  {
   "cell_type": "code",
   "execution_count": 105,
   "id": "0b8bac87",
   "metadata": {},
   "outputs": [
    {
     "name": "stdout",
     "output_type": "stream",
     "text": [
      "[[4 2 7]\n",
      " [9 5 6]\n",
      " [3 9 4]\n",
      " [2 5 0]\n",
      " [2 3 1]]\n"
     ]
    },
    {
     "data": {
      "text/plain": [
       "False"
      ]
     },
     "execution_count": 105,
     "metadata": {},
     "output_type": "execute_result"
    }
   ],
   "source": [
    "rnd = np.array([np.random.randint(0, 10, 5) for i in range(3)]).T\n",
    "print(rnd)\n",
    "boo = False\n",
    "for line in rnd:\n",
    "    if sum(line) == 0:\n",
    "        boo = True\n",
    "boo        "
   ]
  },
  {
   "cell_type": "markdown",
   "id": "c1e49753",
   "metadata": {},
   "source": [
    "**Упражнение 14.** Найти наиболее частое значение в массиве."
   ]
  },
  {
   "cell_type": "code",
   "execution_count": 107,
   "id": "9585ed18",
   "metadata": {
    "scrolled": false
   },
   "outputs": [
    {
     "name": "stdout",
     "output_type": "stream",
     "text": [
      "[[4 2 7]\n",
      " [9 5 6]\n",
      " [3 9 4]\n",
      " [2 5 0]\n",
      " [2 3 1]]\n"
     ]
    },
    {
     "data": {
      "text/plain": [
       "2"
      ]
     },
     "execution_count": 107,
     "metadata": {},
     "output_type": "execute_result"
    }
   ],
   "source": [
    "print(rnd)\n",
    "np.argmax(np.bincount(np.ravel(rnd)))"
   ]
  },
  {
   "cell_type": "markdown",
   "id": "1f2e5689",
   "metadata": {},
   "source": [
    "**Упражнение 15.** Найти n наибольших значений в массиве."
   ]
  },
  {
   "cell_type": "code",
   "execution_count": 108,
   "id": "8597e95e",
   "metadata": {},
   "outputs": [
    {
     "name": "stdout",
     "output_type": "stream",
     "text": [
      "[9 7 6 5 4 3 2 1 0]\n",
      "5\n"
     ]
    },
    {
     "data": {
      "text/plain": [
       "array([9, 7, 6, 5, 4])"
      ]
     },
     "execution_count": 108,
     "metadata": {},
     "output_type": "execute_result"
    }
   ],
   "source": [
    "uni = np.sort(np.unique(rnd))[::-1]\n",
    "print(uni)\n",
    "n = int(input())\n",
    "uni[:n:]"
   ]
  }
 ],
 "metadata": {
  "kernelspec": {
   "display_name": "Python 3 (ipykernel)",
   "language": "python",
   "name": "python3"
  },
  "language_info": {
   "codemirror_mode": {
    "name": "ipython",
    "version": 3
   },
   "file_extension": ".py",
   "mimetype": "text/x-python",
   "name": "python",
   "nbconvert_exporter": "python",
   "pygments_lexer": "ipython3",
   "version": "3.11.5"
  }
 },
 "nbformat": 4,
 "nbformat_minor": 5
}
