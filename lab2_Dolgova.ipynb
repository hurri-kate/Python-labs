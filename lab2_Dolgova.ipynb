{
 "cells": [
  {
   "cell_type": "markdown",
   "id": "b0253cb3",
   "metadata": {},
   "source": [
    "**Файлы, цифры чисел A**"
   ]
  },
  {
   "cell_type": "code",
   "execution_count": null,
   "id": "6813d8f1",
   "metadata": {},
   "outputs": [],
   "source": [
    "a = input()\n",
    "k = 0\n",
    "for i in range(10):\n",
    "    b = a.find(str(i))\n",
    "    c = a.rfind(str(i))\n",
    "    if b != c and b != -1 and c != -1:\n",
    "        k += 1\n",
    "if k > 0:\n",
    "    print(\"YES\")\n",
    "else:\n",
    "    print(\"NO\")"
   ]
  },
  {
   "cell_type": "markdown",
   "id": "5f215ae7",
   "metadata": {},
   "source": [
    "**Файлы, цифры чисел B**"
   ]
  },
  {
   "cell_type": "code",
   "execution_count": null,
   "id": "c414df94",
   "metadata": {},
   "outputs": [],
   "source": [
    "def p(x):\n",
    "    k = 0\n",
    "    d = len(str(x))\n",
    "    while (x > 0):\n",
    "        k += (x % 10)**d\n",
    "        x = x // 10\n",
    "    return k\n",
    "f = []\n",
    "a = list(map(int, input().split()))\n",
    "for i in range(a[0], a[1]+1):\n",
    "    if i == p(i):\n",
    "        f.append(str(i))\n",
    "if len(f) == 0:\n",
    "    print(-1)\n",
    "else:\n",
    "    print(\" \".join(f))"
   ]
  },
  {
   "cell_type": "markdown",
   "id": "f1705fb8",
   "metadata": {},
   "source": [
    "**Файлы, цифры чисел C**"
   ]
  },
  {
   "cell_type": "code",
   "execution_count": null,
   "id": "94f7ba25",
   "metadata": {},
   "outputs": [],
   "source": [
    "a = open('input.txt', 'r')\n",
    "b = 0\n",
    "for line in a:\n",
    "    b += int(line)\n",
    "a.close()\n",
    "with open('output.txt', 'w') as f:\n",
    "    f.write(str(b))"
   ]
  },
  {
   "cell_type": "markdown",
   "id": "2860db87",
   "metadata": {},
   "source": [
    "**Файлы, цифры чисел D**"
   ]
  },
  {
   "cell_type": "code",
   "execution_count": null,
   "id": "f7cd88ab",
   "metadata": {},
   "outputs": [],
   "source": [
    "f = open('input.txt', 'r')\n",
    "a = f.readlines()\n",
    "b = list(reversed(a))\n",
    "f.close()\n",
    "with open('output.txt', 'w') as f:\n",
    "    for i in range(len(b)):\n",
    "        f.write(b[i])"
   ]
  },
  {
   "cell_type": "markdown",
   "id": "0c8720b3",
   "metadata": {},
   "source": [
    "**Файлы, цифры чисел E**"
   ]
  },
  {
   "cell_type": "code",
   "execution_count": null,
   "id": "e65004b2",
   "metadata": {},
   "outputs": [],
   "source": [
    "f = open('input.txt', 'r')\n",
    "a = f.read()\n",
    "print(a[:-1])\n",
    "f.close()"
   ]
  },
  {
   "cell_type": "markdown",
   "id": "0b25cfdd",
   "metadata": {},
   "source": [
    "**Файлы, цифры чисел F**"
   ]
  },
  {
   "cell_type": "code",
   "execution_count": null,
   "id": "63a3fde3",
   "metadata": {},
   "outputs": [],
   "source": [
    "f = open('input.txt', 'r')\n",
    "s = f.read()\n",
    "f.close()\n",
    "a = s.find('@')\n",
    "if a != -1:\n",
    "    print(\"YES\")\n",
    "else:\n",
    "    print(\"NO\")   "
   ]
  },
  {
   "cell_type": "markdown",
   "id": "59f07411",
   "metadata": {},
   "source": [
    "**Файлы, цифры чисел G**"
   ]
  },
  {
   "cell_type": "code",
   "execution_count": null,
   "id": "d45e6773",
   "metadata": {},
   "outputs": [],
   "source": [
    "m9 = 0\n",
    "m10 = 0\n",
    "m11 = 0\n",
    "f = open('input.txt', 'r', encoding='utf-8')\n",
    "a = f.readlines()\n",
    "f.close()\n",
    "def p(x):\n",
    "    k = x.find(' ')\n",
    "    x = x[k + 1::]\n",
    "    k = x.find(' ')\n",
    "    x = x[k + 1::]\n",
    "    a = [int(i) for i in x.split()]\n",
    "    return (a[0], a[1])\n",
    "for i in a:\n",
    "    x = p(i)\n",
    "    if x[0] == 9 and x[1] > m9:\n",
    "        m9 = x[1]\n",
    "    elif x[0] == 10 and x[1] > m10:\n",
    "        m10 = x[1]\n",
    "    elif x[0] == 11 and x[1] > m11:\n",
    "        m11 = x[1]\n",
    "print(m9, m10, m11)"
   ]
  },
  {
   "cell_type": "markdown",
   "id": "57f3a899",
   "metadata": {},
   "source": [
    "**Файлы, цифры чисел H**"
   ]
  },
  {
   "cell_type": "code",
   "execution_count": null,
   "id": "3a22cfae",
   "metadata": {},
   "outputs": [],
   "source": [
    "f = open('input.txt', 'r')\n",
    "s = f.read()\n",
    "f.close()\n",
    "k = s.split()\n",
    "with open('output.txt', 'w') as f:\n",
    "      f.write(str(len(k)))"
   ]
  },
  {
   "cell_type": "markdown",
   "id": "65422ca6",
   "metadata": {},
   "source": [
    "**Двумерные списки A**"
   ]
  },
  {
   "cell_type": "code",
   "execution_count": null,
   "id": "44687f33",
   "metadata": {},
   "outputs": [],
   "source": [
    "d = list(map(int, input().split()))\n",
    "a = [[int(j) for j in input().split()] for i in range(d[0])]\n",
    "su = 0\n",
    "for i in range(d[0]):\n",
    "    for j in range(d[1]):\n",
    "        su += a[i][j]\n",
    "print(su)"
   ]
  },
  {
   "cell_type": "markdown",
   "id": "4114c9f5",
   "metadata": {},
   "source": [
    "**Двумерные списки B**"
   ]
  },
  {
   "cell_type": "code",
   "execution_count": null,
   "id": "8d8b2b68",
   "metadata": {},
   "outputs": [],
   "source": [
    "d = list(map(int, input().split()))\n",
    "a = [[int(j) for j in input().split()] for i in range(d[0])]\n",
    "k = int(input())\n",
    "c = 0\n",
    "for i in range(d[0]):\n",
    "    for j in range(d[1]):\n",
    "        if a[i][j] == k:\n",
    "            c += 1\n",
    "print(c)"
   ]
  },
  {
   "cell_type": "markdown",
   "id": "26aa8cc5",
   "metadata": {},
   "source": [
    "**Двумерные списки C**"
   ]
  },
  {
   "cell_type": "code",
   "execution_count": null,
   "id": "f2b14b80",
   "metadata": {},
   "outputs": [],
   "source": [
    "d = list(map(int, input().split()))\n",
    "a = [[int(j) for j in input().split()] for i in range(d[0])]\n",
    "k = int(input())\n",
    "r = int(input())\n",
    "c = 0\n",
    "def p(x):\n",
    "    num = 0\n",
    "    su = 0\n",
    "    while x > 0:\n",
    "        num += 1\n",
    "        su += x % 10\n",
    "        x //= 10\n",
    "    return [num, su]\n",
    "for i in range(d[0]):\n",
    "    for j in range(d[1]):\n",
    "        lis = p(a[i][j])\n",
    "        if lis[0] == k and lis[1] % r == 0:\n",
    "            c += 1\n",
    "print(c)"
   ]
  },
  {
   "cell_type": "markdown",
   "id": "a398f3a0",
   "metadata": {},
   "source": [
    "**Двумерные списки D**"
   ]
  },
  {
   "cell_type": "code",
   "execution_count": null,
   "id": "2e84c79d",
   "metadata": {},
   "outputs": [],
   "source": [
    "d = list(map(int, input().split()))\n",
    "a = [[int(j) for j in input().split()] for i in range(d[0])]\n",
    "mi = a[0][0]\n",
    "ma = a[0][0]\n",
    "mii = 0\n",
    "mij = 0\n",
    "mai = 0\n",
    "maj = 0\n",
    "for i in range(d[0]):\n",
    "    for j in range(d[1]):\n",
    "        if a[i][j] > ma:\n",
    "            ma = a[i][j]\n",
    "            mai = i\n",
    "            maj = j\n",
    "        if a[i][j] < mi:\n",
    "            mi = a[i][j]\n",
    "            mii = i\n",
    "            mij = j\n",
    "print(mii + 1, mij + 1, mi)\n",
    "print(mai + 1, maj + 1, ma)"
   ]
  },
  {
   "cell_type": "markdown",
   "id": "a0d88e73",
   "metadata": {},
   "source": [
    "**Двумерные списки E**"
   ]
  },
  {
   "cell_type": "code",
   "execution_count": null,
   "id": "84d7d289",
   "metadata": {},
   "outputs": [],
   "source": [
    "d = list(map(int, input().split()))\n",
    "a = [[int(j) for j in input().split()] for i in range(d[0])]\n",
    "mi = a[0][0]\n",
    "c = []\n",
    "for i in range(d[0]):\n",
    "    k = 0\n",
    "    b = []\n",
    "    for j in range(d[1]):\n",
    "        k += a[i][j]\n",
    "        b.append(str(a[i][j]))\n",
    "    if k < mi:\n",
    "        mi = k\n",
    "        c = b\n",
    "print(' '.join(c))"
   ]
  },
  {
   "cell_type": "markdown",
   "id": "f9eb9cd4",
   "metadata": {},
   "source": [
    "**Двумерные списки F**"
   ]
  },
  {
   "cell_type": "code",
   "execution_count": null,
   "id": "de27c3c8",
   "metadata": {},
   "outputs": [],
   "source": [
    "d = list(map(int, input().split()))\n",
    "a = [[int(j) for j in input().split()] for i in range(d[0])]\n",
    "m = max(list(max(x) for x in a))\n",
    "for j in range(d[1]):\n",
    "    k = []\n",
    "    c = 0\n",
    "    for i in range(d[0]):\n",
    "        k.append(str(a[i][j]))\n",
    "        if a[i][j] == m:\n",
    "            c += 1\n",
    "    if c > 0:\n",
    "        print(' '.join(k))"
   ]
  },
  {
   "cell_type": "markdown",
   "id": "a3d8d583",
   "metadata": {},
   "source": [
    "**Двумерные списки G**"
   ]
  },
  {
   "cell_type": "code",
   "execution_count": null,
   "id": "20c99cbf",
   "metadata": {},
   "outputs": [],
   "source": [
    "n = int(input())\n",
    "a = [[int(j) for j in input().split()] for i in range(n)]\n",
    "for i in range(n):\n",
    "    for j in range(n):\n",
    "        if j > i:\n",
    "            a[i][j] = 0\n",
    "for i in a:\n",
    "    for j in i:\n",
    "        print(j, end=' ')\n",
    "    print()"
   ]
  },
  {
   "cell_type": "markdown",
   "id": "738a0298",
   "metadata": {},
   "source": [
    "**Двумерные списки H**"
   ]
  },
  {
   "cell_type": "code",
   "execution_count": null,
   "id": "e797598b",
   "metadata": {},
   "outputs": [],
   "source": [
    "n = int(input())\n",
    "a = [[int(j) for j in input().split()] for i in range(n)]\n",
    "k = 1\n",
    "for i in range(n):\n",
    "    for j in range(n):\n",
    "        if a[i][j] != a[j][i]:\n",
    "            k = 0\n",
    "            break\n",
    "    if k == 0:\n",
    "        break\n",
    "if k > 0:\n",
    "    print(\"YES\")\n",
    "else:\n",
    "    print(\"NO\")"
   ]
  },
  {
   "cell_type": "markdown",
   "id": "99dc9a61",
   "metadata": {},
   "source": [
    "**Двумерные списки I**"
   ]
  },
  {
   "cell_type": "code",
   "execution_count": null,
   "id": "b3dae994",
   "metadata": {},
   "outputs": [],
   "source": [
    "d = list(map(int, input().split()))\n",
    "a = [[int(j) for j in input().split()] for i in range(d[0])]\n",
    "m = a[0][0]\n",
    "mi = 0\n",
    "mj = 0\n",
    "for i in range(d[0]):\n",
    "    for j in range(d[1]):\n",
    "        if a[i][j] > m:\n",
    "            m = a[i][j]\n",
    "            mi = i\n",
    "            mj = j\n",
    "print(mi, mj)"
   ]
  },
  {
   "cell_type": "markdown",
   "id": "b9e6918a",
   "metadata": {},
   "source": [
    "**Двумерные списки J**"
   ]
  },
  {
   "cell_type": "code",
   "execution_count": null,
   "id": "679087c0",
   "metadata": {},
   "outputs": [],
   "source": [
    "d = list(map(int, input().split()))\n",
    "a = []\n",
    "for i in range(d[0]):\n",
    "    b = []\n",
    "    for j in range(d[1]):\n",
    "        if (i + j) % 2 == 0:\n",
    "            b.append(\".\")\n",
    "        else:\n",
    "            b.append(\"*\")\n",
    "    a.append(b)\n",
    "for i in a:\n",
    "    print(*i)"
   ]
  },
  {
   "cell_type": "markdown",
   "id": "c0d427d7",
   "metadata": {},
   "source": [
    "**Двумерные списки K**"
   ]
  },
  {
   "cell_type": "code",
   "execution_count": null,
   "id": "ee1f8304",
   "metadata": {},
   "outputs": [],
   "source": [
    "n = int(input())\n",
    "def Transpose(a):\n",
    "    for i in range(n):\n",
    "        for j in range(n):\n",
    "            if i < j:\n",
    "                t = a[i][j]\n",
    "                a[i][j] = a[j][i]\n",
    "                a[j][i] = t\n",
    "    return a\n",
    "a = [[int(j) for j in input().split()] for i in range(n)]\n",
    "b = Transpose(a)\n",
    "for c in b:\n",
    "    print(*c)"
   ]
  },
  {
   "cell_type": "markdown",
   "id": "f2f76dc4",
   "metadata": {},
   "source": [
    "**Двумерные списки L**"
   ]
  },
  {
   "cell_type": "code",
   "execution_count": null,
   "id": "c16b831b",
   "metadata": {},
   "outputs": [],
   "source": [
    "n = list(map(int, input().split()))\n",
    "def Transpose(a):\n",
    "    b = []\n",
    "    for j in range(n[1]):\n",
    "        c = []\n",
    "        for i in range(n[0]):\n",
    "            c.append(a[i][j])\n",
    "        b.append(c)       \n",
    "    return b\n",
    "a = [[int(j) for j in input().split()] for i in range(n[0])]\n",
    "b = Transpose(a)\n",
    "for c in b:\n",
    "    print(*c)"
   ]
  }
 ],
 "metadata": {
  "kernelspec": {
   "display_name": "Python 3 (ipykernel)",
   "language": "python",
   "name": "python3"
  },
  "language_info": {
   "codemirror_mode": {
    "name": "ipython",
    "version": 3
   },
   "file_extension": ".py",
   "mimetype": "text/x-python",
   "name": "python",
   "nbconvert_exporter": "python",
   "pygments_lexer": "ipython3",
   "version": "3.11.5"
  }
 },
 "nbformat": 4,
 "nbformat_minor": 5
}
