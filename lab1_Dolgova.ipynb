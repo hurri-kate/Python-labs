{
 "cells": [
  {
   "cell_type": "markdown",
   "id": "e04a3795",
   "metadata": {},
   "source": [
    "**Строки А**"
   ]
  },
  {
   "cell_type": "code",
   "execution_count": null,
   "id": "76e8fbc8",
   "metadata": {},
   "outputs": [],
   "source": [
    "s = input()\n",
    "print(s.count(\" \") + 1)"
   ]
  },
  {
   "cell_type": "markdown",
   "id": "8d18c4b7",
   "metadata": {},
   "source": [
    "**Строки В**"
   ]
  },
  {
   "cell_type": "code",
   "execution_count": null,
   "id": "1232c3a6",
   "metadata": {},
   "outputs": [],
   "source": [
    "s = input()\n",
    "a = s.find('f')\n",
    "b = s.rfind('f')\n",
    "if a != -1:\n",
    "    if a == b:\n",
    "        print(a)\n",
    "    else:\n",
    "        print(a, b)"
   ]
  },
  {
   "cell_type": "markdown",
   "id": "ced78ff6",
   "metadata": {},
   "source": [
    "**Строки С**"
   ]
  },
  {
   "cell_type": "code",
   "execution_count": null,
   "id": "e171ce10",
   "metadata": {},
   "outputs": [],
   "source": [
    "s = input()\n",
    "print(s[2])\n",
    "print(s[-2])\n",
    "print(s[:5])\n",
    "print(s[:-2])\n",
    "print(s[::2])\n",
    "print(s[1::2])\n",
    "print(s[::-1])\n",
    "print(s[::-2])\n",
    "print(len(s))"
   ]
  },
  {
   "cell_type": "markdown",
   "id": "20c9298d",
   "metadata": {},
   "source": [
    "**Строки D**"
   ]
  },
  {
   "cell_type": "code",
   "execution_count": null,
   "id": "4505e54f",
   "metadata": {},
   "outputs": [],
   "source": [
    "s = input()\n",
    "a = s.find('f')\n",
    "if a == -1:\n",
    "    print(-2)\n",
    "else:\n",
    "    b = s[a+1:].find('f')\n",
    "    if b == -1:\n",
    "        print(-1)\n",
    "    else:\n",
    "        print(b + a + 1)"
   ]
  },
  {
   "cell_type": "markdown",
   "id": "bde537a3",
   "metadata": {},
   "source": [
    "**Строки Е**"
   ]
  },
  {
   "cell_type": "code",
   "execution_count": null,
   "id": "73f3084a",
   "metadata": {},
   "outputs": [],
   "source": [
    "s = input()\n",
    "a = s.find('h')\n",
    "b = s.rfind('h')\n",
    "print(s[:a] + s[b+1:])"
   ]
  },
  {
   "cell_type": "markdown",
   "id": "dbe7e6d3",
   "metadata": {},
   "source": [
    "**Строки F**"
   ]
  },
  {
   "cell_type": "code",
   "execution_count": null,
   "id": "0251f9d8",
   "metadata": {},
   "outputs": [],
   "source": [
    "s = input()\n",
    "a = s.find('@')\n",
    "while (a != -1):\n",
    "    s = s[:a:] + s[a+1::]\n",
    "    a = s.find('@')\n",
    "print(s)"
   ]
  },
  {
   "cell_type": "code",
   "execution_count": 1,
   "id": "f05f9b02",
   "metadata": {},
   "outputs": [
    {
     "name": "stdout",
     "output_type": "stream",
     "text": [
      "Bilbo.Baggins@bagend.hobbiton.shire.me\n",
      "Bilbo.Bagginsbagend.hobbiton.shire.me\n"
     ]
    }
   ],
   "source": [
    "print(input().replace(\"@\", \"\"))"
   ]
  },
  {
   "cell_type": "markdown",
   "id": "fb74464f",
   "metadata": {},
   "source": [
    "**Строки G**"
   ]
  },
  {
   "cell_type": "code",
   "execution_count": null,
   "id": "7a9b8d6d",
   "metadata": {},
   "outputs": [],
   "source": [
    "s = input()\n",
    "k = \"\"\n",
    "for i in range(len(s)):\n",
    "    if i % 3 != 0:\n",
    "        k += s[i]\n",
    "print(k)"
   ]
  },
  {
   "cell_type": "markdown",
   "id": "c71847a5",
   "metadata": {},
   "source": [
    "**Строки H**"
   ]
  },
  {
   "cell_type": "code",
   "execution_count": null,
   "id": "91a91a50",
   "metadata": {},
   "outputs": [],
   "source": [
    "s = input()\n",
    "a = s.find('h')\n",
    "while(a != -1):\n",
    "    s = s[:a:] + \"H\" + s[a+1::]\n",
    "    a = s.find('h')\n",
    "b = s.find('H')\n",
    "c = s.rfind('H')\n",
    "s = s[:b:] + \"h\" + s[b+1::] \n",
    "s = s[:c:] + \"h\" + s[c+1::]\n",
    "print(s)"
   ]
  },
  {
   "cell_type": "markdown",
   "id": "26eab753",
   "metadata": {},
   "source": [
    "**Строки I**"
   ]
  },
  {
   "cell_type": "code",
   "execution_count": null,
   "id": "ec964e12",
   "metadata": {},
   "outputs": [],
   "source": [
    "s = input()\n",
    "if s == s[::-1]:\n",
    "    print(\"YES\")\n",
    "else:\n",
    "    print(\"NO\")"
   ]
  },
  {
   "cell_type": "markdown",
   "id": "3809fc21",
   "metadata": {},
   "source": [
    "**Строки J**"
   ]
  },
  {
   "cell_type": "code",
   "execution_count": null,
   "id": "4e8c8540",
   "metadata": {},
   "outputs": [],
   "source": [
    "s = input()\n",
    "a = s.find(' ')\n",
    "b = s.rfind(' ')\n",
    "s = s[b+1::] + \" \" + s[0] + \".\" + s[a+1] + \".\" \n",
    "print(s)"
   ]
  },
  {
   "cell_type": "markdown",
   "id": "9a986d7f",
   "metadata": {},
   "source": [
    "**Списки А**"
   ]
  },
  {
   "cell_type": "code",
   "execution_count": null,
   "id": "7f51cc16",
   "metadata": {},
   "outputs": [],
   "source": [
    "a = input().split()\n",
    "b = []\n",
    "for i in range(0, len(a), 2):\n",
    "    b.append(a[i])\n",
    "print(\" \".join(b))"
   ]
  },
  {
   "cell_type": "code",
   "execution_count": null,
   "id": "4541dce8",
   "metadata": {},
   "outputs": [],
   "source": [
    "a = input().split()         \n",
    "print(*a[::2])"
   ]
  },
  {
   "cell_type": "markdown",
   "id": "48cb4667",
   "metadata": {},
   "source": [
    "**Списки В**"
   ]
  },
  {
   "cell_type": "code",
   "execution_count": null,
   "id": "fe95cc26",
   "metadata": {},
   "outputs": [],
   "source": [
    "a = list(map(int, input().split()))\n",
    "b = []\n",
    "for i in range(0, len(a)):\n",
    "    if a[i] % 2 == 0:\n",
    "        b.append(str(a[i]))\n",
    "print(\" \".join(b))"
   ]
  },
  {
   "cell_type": "code",
   "execution_count": 3,
   "id": "bba75db7",
   "metadata": {},
   "outputs": [
    {
     "name": "stdout",
     "output_type": "stream",
     "text": [
      "1 2 3 4 5\n",
      "2 4 "
     ]
    }
   ],
   "source": [
    "a = list(map(int, input().split()))\n",
    "for elem in a:\n",
    "    if int(elem) % 2 == 0:\n",
    "        print(elem, end=\" \")"
   ]
  },
  {
   "cell_type": "code",
   "execution_count": 4,
   "id": "4089fdd9",
   "metadata": {},
   "outputs": [
    {
     "name": "stdout",
     "output_type": "stream",
     "text": [
      "1 2 3 4 5\n",
      "2 4\n"
     ]
    }
   ],
   "source": [
    "a = list(map(int, input().split()))\n",
    "a = list(filter(lambda x: x % 2 == 0, a))\n",
    "print(*a)"
   ]
  },
  {
   "cell_type": "markdown",
   "id": "f8820d09",
   "metadata": {},
   "source": [
    "**Списки С**"
   ]
  },
  {
   "cell_type": "code",
   "execution_count": null,
   "id": "9872e478",
   "metadata": {},
   "outputs": [],
   "source": [
    "a = list(map(int, input().split()))\n",
    "k = 0\n",
    "for i in range(len(a)):\n",
    "    if a[i] > 0:\n",
    "        k += 1\n",
    "print(k)"
   ]
  },
  {
   "cell_type": "markdown",
   "id": "b172c5cf",
   "metadata": {},
   "source": [
    "**Списки D**"
   ]
  },
  {
   "cell_type": "code",
   "execution_count": null,
   "id": "c8aba977",
   "metadata": {},
   "outputs": [],
   "source": [
    "a = list(map(int, input().split()))\n",
    "x = a[0]\n",
    "b = []\n",
    "for i in range(1, len(a)):\n",
    "    if (a[i]) > x:\n",
    "        b.append(str(a[i]))\n",
    "    x = a[i]\n",
    "print(\" \".join(b))"
   ]
  },
  {
   "cell_type": "markdown",
   "id": "ff3a0f26",
   "metadata": {},
   "source": [
    "**Списки E**"
   ]
  },
  {
   "cell_type": "code",
   "execution_count": null,
   "id": "1a20bd27",
   "metadata": {},
   "outputs": [],
   "source": [
    "a = list(map(int, input().split()))\n",
    "b = 0\n",
    "for i in range(1, len(a)-1):\n",
    "    if a[i] > a[i-1] and a[i] > a[i+1]:\n",
    "        b += 1\n",
    "print(b)"
   ]
  },
  {
   "cell_type": "markdown",
   "id": "391143a2",
   "metadata": {},
   "source": [
    "**Списки F**"
   ]
  },
  {
   "cell_type": "code",
   "execution_count": null,
   "id": "6120f3bd",
   "metadata": {},
   "outputs": [],
   "source": [
    "a = list(map(int, input().split()))\n",
    "b = []\n",
    "for i in range(len(a)):\n",
    "    b.append(str(a[len(a)-1-i]))\n",
    "print(\" \".join(b))"
   ]
  },
  {
   "cell_type": "markdown",
   "id": "79b6fbf9",
   "metadata": {},
   "source": [
    "**Списки G**"
   ]
  },
  {
   "cell_type": "code",
   "execution_count": null,
   "id": "ec2417c7",
   "metadata": {},
   "outputs": [],
   "source": [
    "a = list(map(int, input().split()))\n",
    "b = int(input())\n",
    "k = 0\n",
    "for i in range(len(a)):\n",
    "    if a[i] < b:\n",
    "        break\n",
    "if a[len(a)-1] >= b:\n",
    "    print(len(a) + 1)\n",
    "else:\n",
    "    print(i + 1)"
   ]
  },
  {
   "cell_type": "markdown",
   "id": "9ad9c9d5",
   "metadata": {},
   "source": [
    "**Списки H**"
   ]
  },
  {
   "cell_type": "code",
   "execution_count": null,
   "id": "5b08d8c4",
   "metadata": {},
   "outputs": [],
   "source": [
    "a = list(map(int, input().split()))\n",
    "mx = a[0]\n",
    "x = 0\n",
    "for i in range(1, len(a)):\n",
    "    if a[i] > mx:\n",
    "        mx = a[i]\n",
    "        x = i\n",
    "print(mx, x)"
   ]
  }
 ],
 "metadata": {
  "kernelspec": {
   "display_name": "Python 3 (ipykernel)",
   "language": "python",
   "name": "python3"
  },
  "language_info": {
   "codemirror_mode": {
    "name": "ipython",
    "version": 3
   },
   "file_extension": ".py",
   "mimetype": "text/x-python",
   "name": "python",
   "nbconvert_exporter": "python",
   "pygments_lexer": "ipython3",
   "version": "3.11.5"
  }
 },
 "nbformat": 4,
 "nbformat_minor": 5
}
