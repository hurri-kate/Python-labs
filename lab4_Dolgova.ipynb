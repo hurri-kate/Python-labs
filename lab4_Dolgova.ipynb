{
 "cells": [
  {
   "cell_type": "markdown",
   "id": "ccce93ca",
   "metadata": {},
   "source": [
    "**Файлы-2 A**"
   ]
  },
  {
   "cell_type": "code",
   "execution_count": null,
   "id": "b552d3db",
   "metadata": {},
   "outputs": [],
   "source": [
    "n9 = 0\n",
    "n10 = 0 \n",
    "n11 = 0\n",
    "s9 = 0\n",
    "s10 = 0\n",
    "s11 = 0\n",
    "f = open('input.txt', 'r', encoding='utf-8')\n",
    "a = f.readlines()\n",
    "f.close()\n",
    "def p(x):\n",
    "    k = x.find(' ')\n",
    "    x = x[k + 1::]\n",
    "    k = x.find(' ')\n",
    "    x = x[k + 1::]\n",
    "    a = [int(i) for i in x.split()]\n",
    "    return (a[0], a[1])\n",
    "for i in a:\n",
    "    x = p(i)\n",
    "    if x[0] == 9:\n",
    "        s9 += x[1]\n",
    "        n9 += 1\n",
    "    elif x[0] == 10:\n",
    "        s10 += x[1]\n",
    "        n10 += 1\n",
    "    elif x[0] == 11:\n",
    "        s11 += x[1]\n",
    "        n11 += 1\n",
    "print(s9 / n9, s10 / n10, s11 / n11)"
   ]
  },
  {
   "cell_type": "markdown",
   "id": "c989f1ab",
   "metadata": {},
   "source": [
    "**Файлы-2 B**"
   ]
  },
  {
   "cell_type": "code",
   "execution_count": null,
   "id": "5c8a333d",
   "metadata": {},
   "outputs": [],
   "source": [
    "m9 = 0\n",
    "m10 = 0\n",
    "m11 = 0\n",
    "k9 = 0\n",
    "k10 = 0\n",
    "k11 = 0\n",
    "f = open('input.txt', 'r', encoding='utf-8')\n",
    "a = f.readlines()\n",
    "f.close()\n",
    "def p(x):\n",
    "    k = x.find(' ')\n",
    "    x = x[k + 1::]\n",
    "    k = x.find(' ')\n",
    "    x = x[k + 1::]\n",
    "    a = [int(i) for i in x.split()]\n",
    "    return (a[0], a[1])\n",
    "for i in a:\n",
    "    x = p(i)\n",
    "    if x[0] == 9 and x[1] > m9:\n",
    "        m9 = x[1]\n",
    "    elif x[0] == 10 and x[1] > m10:\n",
    "        m10 = x[1]\n",
    "    elif x[0] == 11 and x[1] > m11:\n",
    "        m11 = x[1]\n",
    "for i in a:\n",
    "    x = p(i)\n",
    "    if x[0] == 9 and x[1] == m9:\n",
    "        k9 += 1\n",
    "    elif x[0] == 10 and x[1] == m10:\n",
    "        k10 += 1\n",
    "    elif x[0] == 11 and x[1] == m11:\n",
    "        k11 += 1\n",
    "print(k9, k10, k11)"
   ]
  },
  {
   "cell_type": "markdown",
   "id": "c7bbbdc9",
   "metadata": {},
   "source": [
    "**Файлы-2 C**"
   ]
  },
  {
   "cell_type": "code",
   "execution_count": null,
   "id": "aea05d57",
   "metadata": {},
   "outputs": [],
   "source": [
    "maximum = 0\n",
    "l = []\n",
    "f = open('input.txt', 'r', encoding='utf-8')\n",
    "a = f.readlines()\n",
    "f.close()\n",
    "for line in a:\n",
    "    note = line.split()\n",
    "    x = int(note[3])\n",
    "    if x > maximum:\n",
    "        maximum = x\n",
    "        l = [note[:2]]\n",
    "    elif x == maximum:\n",
    "        l.append(note[:2])\n",
    "if len(l) > 1:\n",
    "    print(len(l))\n",
    "else:\n",
    "    print(*l[0])"
   ]
  },
  {
   "cell_type": "markdown",
   "id": "36f79117",
   "metadata": {},
   "source": [
    "**Файлы-2 D**"
   ]
  },
  {
   "cell_type": "code",
   "execution_count": null,
   "id": "99ef8bda",
   "metadata": {},
   "outputs": [],
   "source": [
    "s9 = []\n",
    "s10 = []\n",
    "s11 = []\n",
    "f = open('input.txt', 'r', encoding='utf-8')\n",
    "a = f.readlines()\n",
    "f.close()\n",
    "def p(x):\n",
    "    k = x.find(' ')\n",
    "    x = x[k + 1::]\n",
    "    k = x.find(' ')\n",
    "    x = x[k + 1::]\n",
    "    a = [int(i) for i in x.split()]\n",
    "    return (a[0], a[1])\n",
    "for i in a:\n",
    "    x = p(i)\n",
    "    if x[0] == 9:\n",
    "        s9.append(x[1])\n",
    "    elif x[0] == 10:\n",
    "        s10.append(x[1])\n",
    "    elif x[0] == 11:\n",
    "        s11.append(x[1])\n",
    "print(sorted(list(set(s9)))[len(set(s9)) - 2], sorted(list(set(s10)))[len(set(s10)) - 2], sorted(list(set(s11)))[len(set(s11)) - 2])"
   ]
  },
  {
   "cell_type": "markdown",
   "id": "4989776f",
   "metadata": {},
   "source": [
    "**Файлы-2 E**"
   ]
  },
  {
   "cell_type": "code",
   "execution_count": null,
   "id": "d50fb30a",
   "metadata": {},
   "outputs": [],
   "source": [
    "s = []\n",
    "f = open('input.txt', 'r', encoding='utf-8')\n",
    "a = f.readlines()\n",
    "f.close()\n",
    "def p(x):\n",
    "    k = x.find(' ')\n",
    "    x = x[k + 1::]\n",
    "    k = x.find(' ')\n",
    "    x = x[k + 1::]\n",
    "    a = [int(i) for i in x.split()]\n",
    "    return a[1]\n",
    "for i in a:\n",
    "    x = p(i)\n",
    "    s.append(x)\n",
    "pri = sorted(list(set(s)))[len(set(s)) - 2]\n",
    "print(pri, s.count(pri))"
   ]
  },
  {
   "cell_type": "markdown",
   "id": "8546caa0",
   "metadata": {},
   "source": [
    "**Файлы-2 F**"
   ]
  },
  {
   "cell_type": "code",
   "execution_count": null,
   "id": "61126339",
   "metadata": {},
   "outputs": [],
   "source": [
    "ma = 0\n",
    "mima = 0\n",
    "mapeo = []\n",
    "mimapeo = []\n",
    "f = open('input.txt', 'r', encoding='utf-8')\n",
    "a = f.readlines()\n",
    "f.close()\n",
    "for i in a:\n",
    "    x = i.split()\n",
    "    person = x[:2]\n",
    "    point = int(x[3])\n",
    "    if point > ma:\n",
    "        mima = ma\n",
    "        ma = point\n",
    "        mimapeo = mapeo\n",
    "        mapeo = [person]\n",
    "    elif point == ma:\n",
    "        mapeo.append(person)\n",
    "    elif point > mima:\n",
    "        mima = point\n",
    "        mimapeo = [person]\n",
    "    elif point == mima:\n",
    "        mimapeo.append(person)\n",
    "if len(mimapeo) > 1:\n",
    "    print(len(mimapeo))\n",
    "else:\n",
    "    print(*mimapeo[0])"
   ]
  },
  {
   "cell_type": "markdown",
   "id": "14830ccc",
   "metadata": {},
   "source": [
    "**Файлы-2 G**"
   ]
  },
  {
   "cell_type": "code",
   "execution_count": null,
   "id": "aab40c96",
   "metadata": {},
   "outputs": [],
   "source": [
    "file = open('input.txt', 'r', encoding='utf-8')\n",
    "a = file.readlines()\n",
    "file.close()\n",
    "d = dict()\n",
    "for line in a:\n",
    "    note = line.split()\n",
    "    school = int(note[2])\n",
    "    if school in d.keys():\n",
    "        d[school] += 1\n",
    "    else:\n",
    "        d[school] = 1\n",
    "list_ = sorted(list(filter(lambda x: x[1] == max(d.values()), list(d.items()))))\n",
    "answ = []\n",
    "for i in list_:\n",
    "    answ.append(str(i[0]))\n",
    "print(*answ)"
   ]
  },
  {
   "cell_type": "markdown",
   "id": "be4031f2",
   "metadata": {},
   "source": [
    "**Файлы-2 H**"
   ]
  },
  {
   "cell_type": "code",
   "execution_count": null,
   "id": "269130d3",
   "metadata": {},
   "outputs": [],
   "source": [
    "file = open('input.txt', 'r', encoding='utf-8')\n",
    "a = file.readlines()\n",
    "d = dict()\n",
    "for line in a:\n",
    "    note = line.split()\n",
    "    school = int(note[2])\n",
    "    point = int(note[3])\n",
    "    if school in d:\n",
    "        d[school][0] += 1\n",
    "        d[school][1] += point\n",
    "    else:\n",
    "        d[school] = [1, point]\n",
    "list_ = list(d.items())\n",
    "list_ = sorted(list_, key = lambda x: ((x[1][1] / x[1][0]), - x[0]), reverse=True)\n",
    "for i in range(len(list_)):\n",
    "    print(list_[i][0], end = ' ')"
   ]
  },
  {
   "cell_type": "markdown",
   "id": "4ad2c934",
   "metadata": {},
   "source": [
    "**Файлы-2 I**"
   ]
  },
  {
   "cell_type": "code",
   "execution_count": null,
   "id": "5d068a03",
   "metadata": {},
   "outputs": [],
   "source": [
    "file = open('input.txt', 'r', encoding='utf-8')\n",
    "a = file.readlines()\n",
    "file.close()\n",
    "num = 0\n",
    "maxpoint = 0\n",
    "leaders = dict()\n",
    "for line in a:\n",
    "    note = line.split()\n",
    "    school = int(note[2])\n",
    "    point = int(note[3])\n",
    "    if point > maxpoint:\n",
    "        maxpoint = point\n",
    "        leaders = dict()\n",
    "        leaders[school] = 1\n",
    "        num = 1\n",
    "    elif point == maxpoint:\n",
    "        if school in leaders:\n",
    "            leaders[school] += 1\n",
    "            num = max(num, leaders[school])\n",
    "        else:\n",
    "            leaders[school] = 1\n",
    "list_ = [x for x, y in leaders.items() if y == num]\n",
    "print(*sorted(list_))"
   ]
  },
  {
   "cell_type": "markdown",
   "id": "021ee30f",
   "metadata": {},
   "source": [
    "**Файлы-2 J**"
   ]
  },
  {
   "cell_type": "code",
   "execution_count": null,
   "id": "66ff59a7",
   "metadata": {},
   "outputs": [],
   "source": [
    "file = open('input.txt')\n",
    "a = file.readlines()\n",
    "file.close()\n",
    "for i in range(len(a)):\n",
    "    a[i] = a[i].rstrip()\n",
    "i = 1\n",
    "d = dict()\n",
    "while a[i] != 'VOTES:':\n",
    "    d[a[i]] = 0\n",
    "    i += 1\n",
    "i += 1\n",
    "while i < len(a):\n",
    "    d[a[i]] += 1\n",
    "    i += 1\n",
    "votes = sum(d.values())\n",
    "for x in d.keys():\n",
    "    d[x] /= votes\n",
    "list_ = list(filter(lambda x: x[1] >= 0.07, list(d.items())))\n",
    "for item in list_:\n",
    "    print(item[0])"
   ]
  }
 ],
 "metadata": {
  "kernelspec": {
   "display_name": "Python 3 (ipykernel)",
   "language": "python",
   "name": "python3"
  },
  "language_info": {
   "codemirror_mode": {
    "name": "ipython",
    "version": 3
   },
   "file_extension": ".py",
   "mimetype": "text/x-python",
   "name": "python",
   "nbconvert_exporter": "python",
   "pygments_lexer": "ipython3",
   "version": "3.11.5"
  }
 },
 "nbformat": 4,
 "nbformat_minor": 5
}
